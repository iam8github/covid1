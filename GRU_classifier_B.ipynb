{
  "nbformat": 4,
  "nbformat_minor": 0,
  "metadata": {
    "accelerator": "GPU",
    "colab": {
      "name": "GRU_classifier_B.ipynb",
      "provenance": [],
      "collapsed_sections": [],
      "include_colab_link": true
    },
    "kernelspec": {
      "display_name": "Python 3",
      "language": "python",
      "name": "python3"
    },
    "language_info": {
      "codemirror_mode": {
        "name": "ipython",
        "version": 3
      },
      "file_extension": ".py",
      "mimetype": "text/x-python",
      "name": "python",
      "nbconvert_exporter": "python",
      "pygments_lexer": "ipython3",
      "version": "3.6.9"
    }
  },
  "cells": [
    {
      "cell_type": "markdown",
      "metadata": {
        "id": "view-in-github",
        "colab_type": "text"
      },
      "source": [
        "<a href=\"https://colab.research.google.com/github/sherkhalil/COVID19/blob/master/GRU_classifier_B.ipynb\" target=\"_parent\"><img src=\"https://colab.research.google.com/assets/colab-badge.svg\" alt=\"Open In Colab\"/></a>"
      ]
    },
    {
      "cell_type": "code",
      "metadata": {
        "colab_type": "code",
        "id": "Q4pskaVy2L62",
        "colab": {}
      },
      "source": [
        "#path = '/content/drive/'\n",
        "#p = path + 'My Drive/Thesis New Data/Data from Dr. Anwar Ali Yahya'\n",
        "dataset = '/content/drive/My Drive/Jan9-2012-tweets-clean (version 1).csv'"
      ],
      "execution_count": 1,
      "outputs": []
    },
    {
      "cell_type": "code",
      "metadata": {
        "id": "Fj7u74JNpD0D",
        "colab_type": "code",
        "colab": {
          "base_uri": "https://localhost:8080/",
          "height": 124
        },
        "outputId": "52be872a-4eac-49d4-e616-b7e5c83100f2"
      },
      "source": [
        "from google.colab import drive\n",
        "drive.mount('/content/drive')"
      ],
      "execution_count": 2,
      "outputs": [
        {
          "output_type": "stream",
          "text": [
            "Go to this URL in a browser: https://accounts.google.com/o/oauth2/auth?client_id=947318989803-6bn6qk8qdgf4n4g3pfee6491hc0brc4i.apps.googleusercontent.com&redirect_uri=urn%3aietf%3awg%3aoauth%3a2.0%3aoob&scope=email%20https%3a%2f%2fwww.googleapis.com%2fauth%2fdocs.test%20https%3a%2f%2fwww.googleapis.com%2fauth%2fdrive%20https%3a%2f%2fwww.googleapis.com%2fauth%2fdrive.photos.readonly%20https%3a%2f%2fwww.googleapis.com%2fauth%2fpeopleapi.readonly&response_type=code\n",
            "\n",
            "Enter your authorization code:\n",
            "··········\n",
            "Mounted at /content/drive\n"
          ],
          "name": "stdout"
        }
      ]
    },
    {
      "cell_type": "code",
      "metadata": {
        "colab_type": "code",
        "id": "6kw-IcMg4Ps_",
        "colab": {
          "base_uri": "https://localhost:8080/",
          "height": 202
        },
        "outputId": "d1518f9d-adfb-417e-feb6-4ec3fd24f35d"
      },
      "source": [
        "import pandas as pd \n",
        "data = pd.read_csv(dataset) \n",
        "data.head()"
      ],
      "execution_count": 3,
      "outputs": [
        {
          "output_type": "execute_result",
          "data": {
            "text/html": [
              "<div>\n",
              "<style scoped>\n",
              "    .dataframe tbody tr th:only-of-type {\n",
              "        vertical-align: middle;\n",
              "    }\n",
              "\n",
              "    .dataframe tbody tr th {\n",
              "        vertical-align: top;\n",
              "    }\n",
              "\n",
              "    .dataframe thead th {\n",
              "        text-align: right;\n",
              "    }\n",
              "</style>\n",
              "<table border=\"1\" class=\"dataframe\">\n",
              "  <thead>\n",
              "    <tr style=\"text-align: right;\">\n",
              "      <th></th>\n",
              "      <th>Id</th>\n",
              "      <th>Tweet</th>\n",
              "      <th>Label</th>\n",
              "    </tr>\n",
              "  </thead>\n",
              "  <tbody>\n",
              "    <tr>\n",
              "      <th>0</th>\n",
              "      <td>145353048817012000</td>\n",
              "      <td>Thinks that @melbahughes had a great 50th birt...</td>\n",
              "      <td>surprise</td>\n",
              "    </tr>\n",
              "    <tr>\n",
              "      <th>1</th>\n",
              "      <td>144279638024257000</td>\n",
              "      <td>Como una expresiÃ³n tan simple, una sola oraci...</td>\n",
              "      <td>sadness</td>\n",
              "    </tr>\n",
              "    <tr>\n",
              "      <th>2</th>\n",
              "      <td>140499585285111000</td>\n",
              "      <td>the moment when you get another follower and y...</td>\n",
              "      <td>joy</td>\n",
              "    </tr>\n",
              "    <tr>\n",
              "      <th>3</th>\n",
              "      <td>145207578270507000</td>\n",
              "      <td>Be the greatest dancer of your life! practice ...</td>\n",
              "      <td>joy</td>\n",
              "    </tr>\n",
              "    <tr>\n",
              "      <th>4</th>\n",
              "      <td>139502146390470000</td>\n",
              "      <td>eww.. my moms starting to make her annual rum ...</td>\n",
              "      <td>disgust</td>\n",
              "    </tr>\n",
              "  </tbody>\n",
              "</table>\n",
              "</div>"
            ],
            "text/plain": [
              "                   Id  ...     Label\n",
              "0  145353048817012000  ...  surprise\n",
              "1  144279638024257000  ...   sadness\n",
              "2  140499585285111000  ...       joy\n",
              "3  145207578270507000  ...       joy\n",
              "4  139502146390470000  ...   disgust\n",
              "\n",
              "[5 rows x 3 columns]"
            ]
          },
          "metadata": {
            "tags": []
          },
          "execution_count": 3
        }
      ]
    },
    {
      "cell_type": "code",
      "metadata": {
        "id": "40DAVJh5wTGy",
        "colab_type": "code",
        "colab": {
          "base_uri": "https://localhost:8080/",
          "height": 139
        },
        "outputId": "eef82999-ddfb-4212-c19e-c3899a730256"
      },
      "source": [
        "data.Label.value_counts()"
      ],
      "execution_count": 4,
      "outputs": [
        {
          "output_type": "execute_result",
          "data": {
            "text/plain": [
              "joy         8240\n",
              "surprise    3849\n",
              "sadness     3830\n",
              "fear        2816\n",
              "anger       1555\n",
              "disgust      761\n",
              "Name: Label, dtype: int64"
            ]
          },
          "metadata": {
            "tags": []
          },
          "execution_count": 4
        }
      ]
    },
    {
      "cell_type": "code",
      "metadata": {
        "id": "Lp5xIWviwjDf",
        "colab_type": "code",
        "colab": {
          "base_uri": "https://localhost:8080/",
          "height": 69
        },
        "outputId": "c72e6cf9-9ae3-4c7a-c03d-5490ad077622"
      },
      "source": [
        "#data.drop(data.loc[data.Label == 'joy'].index, inplace=True)\n",
        "#data.drop(data.loc[data.Label == 'surprise'].index, inplace=True)\n",
        "\n",
        "data.drop(data.loc[data.Label == 'sadness'].index, inplace=True)\n",
        "data.drop(data.loc[data.Label == 'fear'].index, inplace=True)\n",
        "data.drop(data.loc[data.Label == 'anger'].index, inplace=True)\n",
        "data.drop(data.loc[data.Label == 'disgust'].index, inplace=True)\n",
        "data.Label.value_counts()"
      ],
      "execution_count": 5,
      "outputs": [
        {
          "output_type": "execute_result",
          "data": {
            "text/plain": [
              "joy         8240\n",
              "surprise    3849\n",
              "Name: Label, dtype: int64"
            ]
          },
          "metadata": {
            "tags": []
          },
          "execution_count": 5
        }
      ]
    },
    {
      "cell_type": "code",
      "metadata": {
        "colab_type": "code",
        "id": "D-h7fP6o44Xf",
        "colab": {}
      },
      "source": [
        "data['Label_Numeric'] = data['Label'].map({'joy':0, 'surprise':1})"
      ],
      "execution_count": 6,
      "outputs": []
    },
    {
      "cell_type": "code",
      "metadata": {
        "id": "mG9xuPo1ilII",
        "colab_type": "code",
        "colab": {
          "base_uri": "https://localhost:8080/",
          "height": 69
        },
        "outputId": "2ba89e45-30b9-42bb-b1ba-fd9d07f4ed74"
      },
      "source": [
        "data.Label_Numeric.value_counts()\n",
        "\n"
      ],
      "execution_count": 7,
      "outputs": [
        {
          "output_type": "execute_result",
          "data": {
            "text/plain": [
              "0    8240\n",
              "1    3849\n",
              "Name: Label_Numeric, dtype: int64"
            ]
          },
          "metadata": {
            "tags": []
          },
          "execution_count": 7
        }
      ]
    },
    {
      "cell_type": "code",
      "metadata": {
        "id": "4VazbFuQckyV",
        "colab_type": "code",
        "colab": {
          "base_uri": "https://localhost:8080/",
          "height": 86
        },
        "outputId": "a8063553-f312-4eb7-9ae8-81bdb00ce302"
      },
      "source": [
        "# Import stopwords with nltk.\n",
        "import nltk\n",
        "nltk.download('stopwords')\n",
        "nltk.download('wordnet')\n",
        "from nltk.corpus import stopwords\n",
        "from nltk.stem import WordNetLemmatizer \n",
        "stop = stopwords.words('english')\n",
        "w_tokenizer = nltk.tokenize.WhitespaceTokenizer()\n",
        "lemmatizer = nltk.stem.WordNetLemmatizer()"
      ],
      "execution_count": null,
      "outputs": [
        {
          "output_type": "stream",
          "text": [
            "[nltk_data] Downloading package stopwords to /root/nltk_data...\n",
            "[nltk_data]   Unzipping corpora/stopwords.zip.\n",
            "[nltk_data] Downloading package wordnet to /root/nltk_data...\n",
            "[nltk_data]   Unzipping corpora/wordnet.zip.\n"
          ],
          "name": "stdout"
        }
      ]
    },
    {
      "cell_type": "code",
      "metadata": {
        "id": "SynFcKcAckyX",
        "colab_type": "code",
        "colab": {}
      },
      "source": [
        "\n",
        "data['AfterStopwords'] = data['Tweet'].apply(lambda x: ' '.join([word for word in x.split() if word not in (stop)]))"
      ],
      "execution_count": null,
      "outputs": []
    },
    {
      "cell_type": "code",
      "metadata": {
        "id": "zd6Uj9dhckyZ",
        "colab_type": "code",
        "colab": {}
      },
      "source": [
        "import string\n",
        "data['AfterPunctuation'] = data['AfterStopwords'].apply(lambda x:''.join([i for i in x \n",
        "                                                  if i not in string.punctuation]))\n",
        "\n",
        "data['cleaned'] = data['AfterPunctuation'].str.lower()\n",
        "\n",
        "def lemmatize_text(text):\n",
        "    return [lemmatizer.lemmatize(w) for w in w_tokenizer.tokenize(text)]\n",
        "\n",
        "data['lemmatized'] = data['cleaned'].apply(lemmatize_text)\n",
        "\n",
        "\n",
        "data[\"final1\"]= data[\"lemmatized\"].str.join(\" \") \n",
        "\n",
        "data['final1'] = data['final1'].str.replace('\\d+', '')"
      ],
      "execution_count": null,
      "outputs": []
    },
    {
      "cell_type": "code",
      "metadata": {
        "colab_type": "code",
        "id": "T2hciYLzFFJZ",
        "colab": {
          "base_uri": "https://localhost:8080/",
          "height": 34
        },
        "outputId": "052c77dd-7b70-4c21-e785-fd30bf0be899"
      },
      "source": [
        "data['final1'][100]"
      ],
      "execution_count": null,
      "outputs": [
        {
          "output_type": "execute_result",
          "data": {
            "text/plain": [
              "'gotta get  hour ride plane'"
            ]
          },
          "metadata": {
            "tags": []
          },
          "execution_count": 55
        }
      ]
    },
    {
      "cell_type": "code",
      "metadata": {
        "colab_type": "code",
        "id": "9ECfRi-DD5Ha",
        "colab": {
          "base_uri": "https://localhost:8080/",
          "height": 225
        },
        "outputId": "d5688ce1-e5f6-4331-83b8-15a8229b5438"
      },
      "source": [
        "%tensorflow_version 1.x\n",
        "\n",
        "\n",
        "\n",
        "from keras import backend as K\n",
        "K.tensorflow_backend._get_available_gpus()\n",
        "\n",
        "\n",
        "from keras.preprocessing.text import Tokenizer\n",
        "from keras.preprocessing.sequence import pad_sequences\n",
        "import numpy as np\n",
        "maxlen = 280\n",
        "max_words = 40000\n",
        "tokenizer = Tokenizer(num_words=max_words)\n",
        "tokenizer.fit_on_texts(data['Tweet'])\n",
        "sequences = tokenizer.texts_to_sequences(data['Tweet'])\n",
        "word_index = tokenizer.word_index\n",
        "print('Found %s unique tokens.' % len(word_index))\n",
        "data1 = pad_sequences(sequences, maxlen=maxlen)\n",
        "print(data1)\n",
        "def to_one_hot(labels, dimension=2):\n",
        "    results = np.zeros((len(labels), dimension))\n",
        "    for i, label in enumerate(labels):\n",
        "        results[i, label] = 1.\n",
        "    return results\n",
        "one_hot_labels = to_one_hot(data['Label_Numeric'])\n",
        "labels = np.asarray(one_hot_labels)\n",
        "print('Shape of data tensor:', data.shape)\n",
        "print('Shape of label tensor:', labels.shape)\n",
        "indices = np.arange(data1.shape[0])\n",
        "np.random.shuffle(indices)\n",
        "data1 = data1[indices]\n",
        "labels = labels[indices]\n",
        "\"\"\"x_train = data1[:training_samples]\n",
        "y_train = labels[:training_samples]\n",
        "x_val = data1[training_samples: training_samples + validation_samples]\n",
        "y_val = labels[training_samples: training_samples + validation_samples]\n",
        "x_test = data1[validation_samples: validation_samples + test_samples]\n",
        "y_test = labels[validation_samples: validation_samples + test_samples]\"\"\"\n",
        "\n",
        "#from sklearn.model_selection import train_test_split\n",
        "\n",
        "from sklearn.model_selection import train_test_split\n",
        "\n",
        "\n",
        "X_train, X_test, y_train, y_test = train_test_split(data1, labels, test_size=0.1, random_state=0)\n",
        "#X_train, X_val, y_train, y_val = train_test_split(X_train, y_train, test_size=0.03, random_state=0)"
      ],
      "execution_count": 8,
      "outputs": [
        {
          "output_type": "stream",
          "text": [
            "TensorFlow 1.x selected.\n"
          ],
          "name": "stdout"
        },
        {
          "output_type": "stream",
          "text": [
            "Using TensorFlow backend.\n"
          ],
          "name": "stderr"
        },
        {
          "output_type": "stream",
          "text": [
            "Found 21849 unique tokens.\n",
            "[[   0    0    0 ... 5114  127  169]\n",
            " [   0    0    0 ...    6   11  782]\n",
            " [   0    0    0 ...  252 1470 2774]\n",
            " ...\n",
            " [   0    0    0 ...   12    4 6162]\n",
            " [   0    0    0 ...    4   97  447]\n",
            " [   0    0    0 ...   11 1019  862]]\n",
            "Shape of data tensor: (12089, 4)\n",
            "Shape of label tensor: (12089, 2)\n"
          ],
          "name": "stdout"
        }
      ]
    },
    {
      "cell_type": "code",
      "metadata": {
        "colab_type": "code",
        "id": "ZFH_G83H7wvb",
        "colab": {
          "base_uri": "https://localhost:8080/",
          "height": 52
        },
        "outputId": "3628af9b-9b25-40ba-b906-b9674f4f0c3a"
      },
      "source": [
        "print(labels.shape)\n",
        "print(y_test.shape)"
      ],
      "execution_count": 9,
      "outputs": [
        {
          "output_type": "stream",
          "text": [
            "(12089, 2)\n",
            "(1209, 2)\n"
          ],
          "name": "stdout"
        }
      ]
    },
    {
      "cell_type": "code",
      "metadata": {
        "id": "-4u-l1FRLFLB",
        "colab_type": "code",
        "colab": {
          "base_uri": "https://localhost:8080/",
          "height": 35
        },
        "outputId": "7df879f9-d5e2-41e2-f2d4-0aeb67b17c30"
      },
      "source": [
        "y_train.shape"
      ],
      "execution_count": 10,
      "outputs": [
        {
          "output_type": "execute_result",
          "data": {
            "text/plain": [
              "(10880, 2)"
            ]
          },
          "metadata": {
            "tags": []
          },
          "execution_count": 10
        }
      ]
    },
    {
      "cell_type": "code",
      "metadata": {
        "id": "axCr_RXuHE_D",
        "colab_type": "code",
        "colab": {
          "base_uri": "https://localhost:8080/",
          "height": 887
        },
        "outputId": "edba89b1-2316-4b89-9f14-44df41e278a1"
      },
      "source": [
        "from keras.models import Sequential\n",
        "from keras.layers import Embedding, Flatten, Dense, Dropout\n",
        "from keras.layers import Embedding, LSTM\n",
        "from keras import regularizers\n",
        "from keras import layers\n",
        "from keras.layers import Bidirectional\n",
        "from keras.layers import TimeDistributed\n",
        "embedding_dim = 300\n",
        "\n",
        "model3 = Sequential()\n",
        "model3.add(Embedding(max_words, embedding_dim, input_length=maxlen))\n",
        "model3.add(layers.GRU(32,return_sequences = True, dropout=0.2,recurrent_dropout=0.2))\n",
        "model3.add(layers.GRU(32, return_sequences= True))\n",
        "model3.add(layers.GlobalMaxPooling1D())\n",
        "model3.add(layers.Dense(10, activation='relu'))\n",
        "model3.add(layers.Dense(2, activation='sigmoid'))\n",
        "model3.compile(optimizer='adam',\n",
        "              loss='binary_crossentropy',\n",
        "              metrics=['accuracy'])\n",
        "model3.summary()\n",
        "\n",
        "\n",
        "\n",
        "history = model3.fit(X_train, y_train, epochs=10, batch_size=2048, validation_split = 0.1, shuffle=True)\n"
      ],
      "execution_count": 12,
      "outputs": [
        {
          "output_type": "stream",
          "text": [
            "WARNING:tensorflow:From /tensorflow-1.15.2/python3.6/tensorflow_core/python/ops/resource_variable_ops.py:1630: calling BaseResourceVariable.__init__ (from tensorflow.python.ops.resource_variable_ops) with constraint is deprecated and will be removed in a future version.\n",
            "Instructions for updating:\n",
            "If using Keras pass *_constraint arguments to layers.\n",
            "WARNING:tensorflow:From /tensorflow-1.15.2/python3.6/tensorflow_core/python/ops/nn_impl.py:183: where (from tensorflow.python.ops.array_ops) is deprecated and will be removed in a future version.\n",
            "Instructions for updating:\n",
            "Use tf.where in 2.0, which has the same broadcast rule as np.where\n",
            "Model: \"sequential_1\"\n",
            "_________________________________________________________________\n",
            "Layer (type)                 Output Shape              Param #   \n",
            "=================================================================\n",
            "embedding_1 (Embedding)      (None, 280, 300)          12000000  \n",
            "_________________________________________________________________\n",
            "gru_1 (GRU)                  (None, 280, 32)           31968     \n",
            "_________________________________________________________________\n",
            "gru_2 (GRU)                  (None, 280, 32)           6240      \n",
            "_________________________________________________________________\n",
            "global_max_pooling1d_1 (Glob (None, 32)                0         \n",
            "_________________________________________________________________\n",
            "dense_1 (Dense)              (None, 10)                330       \n",
            "_________________________________________________________________\n",
            "dense_2 (Dense)              (None, 2)                 22        \n",
            "=================================================================\n",
            "Total params: 12,038,560\n",
            "Trainable params: 12,038,560\n",
            "Non-trainable params: 0\n",
            "_________________________________________________________________\n",
            "WARNING:tensorflow:From /tensorflow-1.15.2/python3.6/keras/backend/tensorflow_backend.py:422: The name tf.global_variables is deprecated. Please use tf.compat.v1.global_variables instead.\n",
            "\n",
            "Train on 9792 samples, validate on 1088 samples\n",
            "Epoch 1/10\n",
            "9792/9792 [==============================] - 6s 600us/step - loss: 0.6854 - accuracy: 0.5529 - val_loss: 0.6757 - val_accuracy: 0.6788\n",
            "Epoch 2/10\n",
            "9792/9792 [==============================] - 4s 374us/step - loss: 0.6637 - accuracy: 0.6687 - val_loss: 0.6564 - val_accuracy: 0.6783\n",
            "Epoch 3/10\n",
            "9792/9792 [==============================] - 4s 381us/step - loss: 0.6409 - accuracy: 0.6861 - val_loss: 0.6373 - val_accuracy: 0.6783\n",
            "Epoch 4/10\n",
            "9792/9792 [==============================] - 4s 360us/step - loss: 0.6278 - accuracy: 0.6861 - val_loss: 0.6308 - val_accuracy: 0.6783\n",
            "Epoch 5/10\n",
            "9792/9792 [==============================] - 4s 409us/step - loss: 0.6222 - accuracy: 0.6861 - val_loss: 0.6290 - val_accuracy: 0.6783\n",
            "Epoch 6/10\n",
            "9792/9792 [==============================] - 4s 387us/step - loss: 0.6188 - accuracy: 0.6861 - val_loss: 0.6222 - val_accuracy: 0.6783\n",
            "Epoch 7/10\n",
            "9792/9792 [==============================] - 4s 374us/step - loss: 0.6148 - accuracy: 0.6861 - val_loss: 0.6178 - val_accuracy: 0.6783\n",
            "Epoch 8/10\n",
            "9792/9792 [==============================] - 4s 371us/step - loss: 0.6068 - accuracy: 0.6861 - val_loss: 0.6122 - val_accuracy: 0.6806\n",
            "Epoch 9/10\n",
            "9792/9792 [==============================] - 4s 371us/step - loss: 0.5975 - accuracy: 0.6912 - val_loss: 0.6024 - val_accuracy: 0.6985\n",
            "Epoch 10/10\n",
            "9792/9792 [==============================] - 4s 380us/step - loss: 0.5833 - accuracy: 0.7059 - val_loss: 0.5890 - val_accuracy: 0.7096\n"
          ],
          "name": "stdout"
        }
      ]
    },
    {
      "cell_type": "code",
      "metadata": {
        "id": "io9R8BKWVvoB",
        "colab_type": "code",
        "colab": {}
      },
      "source": [
        "from sklearn.metrics import precision_score , recall_score\n",
        "y_val_pred=model3.predict_classes(X_test)"
      ],
      "execution_count": 13,
      "outputs": []
    },
    {
      "cell_type": "code",
      "metadata": {
        "id": "MiLglTmpWW_5",
        "colab_type": "code",
        "colab": {
          "base_uri": "https://localhost:8080/",
          "height": 87
        },
        "outputId": "2ed2c819-1b1a-47a0-bfb1-98acf5ee9868"
      },
      "source": [
        "from sklearn.metrics import accuracy_score\n",
        "from sklearn.metrics import precision_score\n",
        "from sklearn.metrics import recall_score\n",
        "from sklearn.metrics import f1_score\n",
        "from sklearn.metrics import cohen_kappa_score\n",
        "from sklearn.metrics import roc_auc_score\n",
        "from sklearn.metrics import confusion_matrix\n",
        "\n",
        "\n",
        "rounded_labels=np.argmax(y_test, axis=1)\n",
        "\n",
        "\n",
        "# accuracy: (tp + tn) / (p + n)\n",
        "accuracy = accuracy_score(rounded_labels, y_val_pred)\n",
        "print('Accuracy: %f' % accuracy)\n",
        "# precision tp / (tp + fp)\n",
        "precision = precision_score(rounded_labels, y_val_pred)\n",
        "print('Precision: %f' %precision)\n",
        "# recall: tp / (tp + fn)\n",
        "recall = recall_score(rounded_labels, y_val_pred, average = 'weighted')\n",
        "print('Recall: %f' %recall)\n",
        "# f1: 2 tp / (2 tp + fp + fn)\n",
        "f1 = f1_score(rounded_labels, y_val_pred)\n",
        "print('F1: %f' %f1)\n",
        "# accuracy: (tp + tn) / (p + n)"
      ],
      "execution_count": 14,
      "outputs": [
        {
          "output_type": "stream",
          "text": [
            "Accuracy: 0.649297\n",
            "Precision: 1.000000\n",
            "Recall: 0.649297\n",
            "F1: 0.004695\n"
          ],
          "name": "stdout"
        }
      ]
    },
    {
      "cell_type": "code",
      "metadata": {
        "id": "fMfySZC8WimA",
        "colab_type": "code",
        "colab": {}
      },
      "source": [
        ""
      ],
      "execution_count": null,
      "outputs": []
    }
  ]
}