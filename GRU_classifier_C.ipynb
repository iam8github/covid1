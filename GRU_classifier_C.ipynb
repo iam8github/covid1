{
  "nbformat": 4,
  "nbformat_minor": 0,
  "metadata": {
    "accelerator": "GPU",
    "colab": {
      "name": "GRU_classifier_C.ipynb",
      "provenance": [],
      "collapsed_sections": [],
      "include_colab_link": true
    },
    "kernelspec": {
      "display_name": "Python 3",
      "language": "python",
      "name": "python3"
    },
    "language_info": {
      "codemirror_mode": {
        "name": "ipython",
        "version": 3
      },
      "file_extension": ".py",
      "mimetype": "text/x-python",
      "name": "python",
      "nbconvert_exporter": "python",
      "pygments_lexer": "ipython3",
      "version": "3.6.9"
    }
  },
  "cells": [
    {
      "cell_type": "markdown",
      "metadata": {
        "id": "view-in-github",
        "colab_type": "text"
      },
      "source": [
        "<a href=\"https://colab.research.google.com/github/sherkhalil/COVID19/blob/master/GRU_classifier_C.ipynb\" target=\"_parent\"><img src=\"https://colab.research.google.com/assets/colab-badge.svg\" alt=\"Open In Colab\"/></a>"
      ]
    },
    {
      "cell_type": "code",
      "metadata": {
        "colab_type": "code",
        "id": "Q4pskaVy2L62",
        "colab": {}
      },
      "source": [
        "#path = '/content/drive/'\n",
        "#p = path + 'My Drive/Thesis New Data/Data from Dr. Anwar Ali Yahya'\n",
        "dataset = '/content/drive/My Drive/Jan9-2012-tweets-clean (version 1).csv'"
      ],
      "execution_count": 2,
      "outputs": []
    },
    {
      "cell_type": "code",
      "metadata": {
        "id": "Fj7u74JNpD0D",
        "colab_type": "code",
        "colab": {
          "base_uri": "https://localhost:8080/",
          "height": 124
        },
        "outputId": "1b932f62-4360-4cad-be76-9329f90a8434"
      },
      "source": [
        "from google.colab import drive\n",
        "drive.mount('/content/drive')"
      ],
      "execution_count": 3,
      "outputs": [
        {
          "output_type": "stream",
          "text": [
            "Go to this URL in a browser: https://accounts.google.com/o/oauth2/auth?client_id=947318989803-6bn6qk8qdgf4n4g3pfee6491hc0brc4i.apps.googleusercontent.com&redirect_uri=urn%3aietf%3awg%3aoauth%3a2.0%3aoob&scope=email%20https%3a%2f%2fwww.googleapis.com%2fauth%2fdocs.test%20https%3a%2f%2fwww.googleapis.com%2fauth%2fdrive%20https%3a%2f%2fwww.googleapis.com%2fauth%2fdrive.photos.readonly%20https%3a%2f%2fwww.googleapis.com%2fauth%2fpeopleapi.readonly&response_type=code\n",
            "\n",
            "Enter your authorization code:\n",
            "··········\n",
            "Mounted at /content/drive\n"
          ],
          "name": "stdout"
        }
      ]
    },
    {
      "cell_type": "code",
      "metadata": {
        "colab_type": "code",
        "id": "6kw-IcMg4Ps_",
        "colab": {
          "base_uri": "https://localhost:8080/",
          "height": 202
        },
        "outputId": "5cec9368-d041-451a-b848-34ada66bbb2d"
      },
      "source": [
        "import pandas as pd \n",
        "data = pd.read_csv(dataset) \n",
        "data.head()"
      ],
      "execution_count": 4,
      "outputs": [
        {
          "output_type": "execute_result",
          "data": {
            "text/html": [
              "<div>\n",
              "<style scoped>\n",
              "    .dataframe tbody tr th:only-of-type {\n",
              "        vertical-align: middle;\n",
              "    }\n",
              "\n",
              "    .dataframe tbody tr th {\n",
              "        vertical-align: top;\n",
              "    }\n",
              "\n",
              "    .dataframe thead th {\n",
              "        text-align: right;\n",
              "    }\n",
              "</style>\n",
              "<table border=\"1\" class=\"dataframe\">\n",
              "  <thead>\n",
              "    <tr style=\"text-align: right;\">\n",
              "      <th></th>\n",
              "      <th>Id</th>\n",
              "      <th>Tweet</th>\n",
              "      <th>Label</th>\n",
              "    </tr>\n",
              "  </thead>\n",
              "  <tbody>\n",
              "    <tr>\n",
              "      <th>0</th>\n",
              "      <td>145353048817012000</td>\n",
              "      <td>Thinks that @melbahughes had a great 50th birt...</td>\n",
              "      <td>surprise</td>\n",
              "    </tr>\n",
              "    <tr>\n",
              "      <th>1</th>\n",
              "      <td>144279638024257000</td>\n",
              "      <td>Como una expresiÃ³n tan simple, una sola oraci...</td>\n",
              "      <td>sadness</td>\n",
              "    </tr>\n",
              "    <tr>\n",
              "      <th>2</th>\n",
              "      <td>140499585285111000</td>\n",
              "      <td>the moment when you get another follower and y...</td>\n",
              "      <td>joy</td>\n",
              "    </tr>\n",
              "    <tr>\n",
              "      <th>3</th>\n",
              "      <td>145207578270507000</td>\n",
              "      <td>Be the greatest dancer of your life! practice ...</td>\n",
              "      <td>joy</td>\n",
              "    </tr>\n",
              "    <tr>\n",
              "      <th>4</th>\n",
              "      <td>139502146390470000</td>\n",
              "      <td>eww.. my moms starting to make her annual rum ...</td>\n",
              "      <td>disgust</td>\n",
              "    </tr>\n",
              "  </tbody>\n",
              "</table>\n",
              "</div>"
            ],
            "text/plain": [
              "                   Id  ...     Label\n",
              "0  145353048817012000  ...  surprise\n",
              "1  144279638024257000  ...   sadness\n",
              "2  140499585285111000  ...       joy\n",
              "3  145207578270507000  ...       joy\n",
              "4  139502146390470000  ...   disgust\n",
              "\n",
              "[5 rows x 3 columns]"
            ]
          },
          "metadata": {
            "tags": []
          },
          "execution_count": 4
        }
      ]
    },
    {
      "cell_type": "code",
      "metadata": {
        "id": "40DAVJh5wTGy",
        "colab_type": "code",
        "colab": {
          "base_uri": "https://localhost:8080/",
          "height": 139
        },
        "outputId": "c0e404f6-a6db-4b50-97ae-3549d6a37c3f"
      },
      "source": [
        "data.Label.value_counts()"
      ],
      "execution_count": 5,
      "outputs": [
        {
          "output_type": "execute_result",
          "data": {
            "text/plain": [
              "joy         8240\n",
              "surprise    3849\n",
              "sadness     3830\n",
              "fear        2816\n",
              "anger       1555\n",
              "disgust      761\n",
              "Name: Label, dtype: int64"
            ]
          },
          "metadata": {
            "tags": []
          },
          "execution_count": 5
        }
      ]
    },
    {
      "cell_type": "code",
      "metadata": {
        "id": "Lp5xIWviwjDf",
        "colab_type": "code",
        "colab": {
          "base_uri": "https://localhost:8080/",
          "height": 87
        },
        "outputId": "85c5c680-0671-4f41-d359-a1b1385d1b5e"
      },
      "source": [
        "data.drop(data.loc[data.Label == 'joy'].index, inplace=True)\n",
        "data.drop(data.loc[data.Label == 'surprise'].index, inplace=True)\n",
        "\n",
        "#data.drop(data.loc[data.Label == 'sadness'].index, inplace=True)\n",
        "#data.drop(data.loc[data.Label == 'fear'].index, inplace=True)\n",
        "#data.drop(data.loc[data.Label == 'anger'].index, inplace=True)\n",
        "data.drop(data.loc[data.Label == 'disgust'].index, inplace=True)\n",
        "data.Label.value_counts()"
      ],
      "execution_count": 6,
      "outputs": [
        {
          "output_type": "execute_result",
          "data": {
            "text/plain": [
              "sadness    3830\n",
              "fear       2816\n",
              "anger      1555\n",
              "Name: Label, dtype: int64"
            ]
          },
          "metadata": {
            "tags": []
          },
          "execution_count": 6
        }
      ]
    },
    {
      "cell_type": "code",
      "metadata": {
        "colab_type": "code",
        "id": "D-h7fP6o44Xf",
        "colab": {}
      },
      "source": [
        "data['Label_Numeric'] = data['Label'].map({'sadness':0, 'fear':1,'anger':2})"
      ],
      "execution_count": 7,
      "outputs": []
    },
    {
      "cell_type": "code",
      "metadata": {
        "id": "mG9xuPo1ilII",
        "colab_type": "code",
        "colab": {
          "base_uri": "https://localhost:8080/",
          "height": 87
        },
        "outputId": "b1975f9b-6eab-4271-cec8-c1da8cfe7b0e"
      },
      "source": [
        "data.Label_Numeric.value_counts()\n",
        "\n"
      ],
      "execution_count": 8,
      "outputs": [
        {
          "output_type": "execute_result",
          "data": {
            "text/plain": [
              "0    3830\n",
              "1    2816\n",
              "2    1555\n",
              "Name: Label_Numeric, dtype: int64"
            ]
          },
          "metadata": {
            "tags": []
          },
          "execution_count": 8
        }
      ]
    },
    {
      "cell_type": "code",
      "metadata": {
        "id": "4VazbFuQckyV",
        "colab_type": "code",
        "colab": {
          "base_uri": "https://localhost:8080/",
          "height": 86
        },
        "outputId": "a8063553-f312-4eb7-9ae8-81bdb00ce302"
      },
      "source": [
        "# Import stopwords with nltk.\n",
        "import nltk\n",
        "nltk.download('stopwords')\n",
        "nltk.download('wordnet')\n",
        "from nltk.corpus import stopwords\n",
        "from nltk.stem import WordNetLemmatizer \n",
        "stop = stopwords.words('english')\n",
        "w_tokenizer = nltk.tokenize.WhitespaceTokenizer()\n",
        "lemmatizer = nltk.stem.WordNetLemmatizer()"
      ],
      "execution_count": null,
      "outputs": [
        {
          "output_type": "stream",
          "text": [
            "[nltk_data] Downloading package stopwords to /root/nltk_data...\n",
            "[nltk_data]   Unzipping corpora/stopwords.zip.\n",
            "[nltk_data] Downloading package wordnet to /root/nltk_data...\n",
            "[nltk_data]   Unzipping corpora/wordnet.zip.\n"
          ],
          "name": "stdout"
        }
      ]
    },
    {
      "cell_type": "code",
      "metadata": {
        "id": "SynFcKcAckyX",
        "colab_type": "code",
        "colab": {}
      },
      "source": [
        "\n",
        "data['AfterStopwords'] = data['Tweet'].apply(lambda x: ' '.join([word for word in x.split() if word not in (stop)]))"
      ],
      "execution_count": null,
      "outputs": []
    },
    {
      "cell_type": "code",
      "metadata": {
        "id": "zd6Uj9dhckyZ",
        "colab_type": "code",
        "colab": {}
      },
      "source": [
        "import string\n",
        "data['AfterPunctuation'] = data['AfterStopwords'].apply(lambda x:''.join([i for i in x \n",
        "                                                  if i not in string.punctuation]))\n",
        "\n",
        "data['cleaned'] = data['AfterPunctuation'].str.lower()\n",
        "\n",
        "def lemmatize_text(text):\n",
        "    return [lemmatizer.lemmatize(w) for w in w_tokenizer.tokenize(text)]\n",
        "\n",
        "data['lemmatized'] = data['cleaned'].apply(lemmatize_text)\n",
        "\n",
        "\n",
        "data[\"final1\"]= data[\"lemmatized\"].str.join(\" \") \n",
        "\n",
        "data['final1'] = data['final1'].str.replace('\\d+', '')"
      ],
      "execution_count": null,
      "outputs": []
    },
    {
      "cell_type": "code",
      "metadata": {
        "colab_type": "code",
        "id": "T2hciYLzFFJZ",
        "colab": {
          "base_uri": "https://localhost:8080/",
          "height": 34
        },
        "outputId": "052c77dd-7b70-4c21-e785-fd30bf0be899"
      },
      "source": [
        "data['final1'][100]"
      ],
      "execution_count": null,
      "outputs": [
        {
          "output_type": "execute_result",
          "data": {
            "text/plain": [
              "'gotta get  hour ride plane'"
            ]
          },
          "metadata": {
            "tags": []
          },
          "execution_count": 55
        }
      ]
    },
    {
      "cell_type": "code",
      "metadata": {
        "colab_type": "code",
        "id": "9ECfRi-DD5Ha",
        "colab": {
          "base_uri": "https://localhost:8080/",
          "height": 225
        },
        "outputId": "6441877c-a22f-4c97-fc58-6ea8eac82bd6"
      },
      "source": [
        "%tensorflow_version 1.x\n",
        "\n",
        "\n",
        "\n",
        "from keras import backend as K\n",
        "K.tensorflow_backend._get_available_gpus()\n",
        "\n",
        "\n",
        "from keras.preprocessing.text import Tokenizer\n",
        "from keras.preprocessing.sequence import pad_sequences\n",
        "import numpy as np\n",
        "maxlen = 280\n",
        "max_words = 40000\n",
        "tokenizer = Tokenizer(num_words=max_words)\n",
        "tokenizer.fit_on_texts(data['Tweet'])\n",
        "sequences = tokenizer.texts_to_sequences(data['Tweet'])\n",
        "word_index = tokenizer.word_index\n",
        "print('Found %s unique tokens.' % len(word_index))\n",
        "data1 = pad_sequences(sequences, maxlen=maxlen)\n",
        "print(data1)\n",
        "def to_one_hot(labels, dimension=3):\n",
        "    results = np.zeros((len(labels), dimension))\n",
        "    for i, label in enumerate(labels):\n",
        "        results[i, label] = 1.\n",
        "    return results\n",
        "one_hot_labels = to_one_hot(data['Label_Numeric'])\n",
        "labels = np.asarray(one_hot_labels)\n",
        "print('Shape of data tensor:', data.shape)\n",
        "print('Shape of label tensor:', labels.shape)\n",
        "indices = np.arange(data1.shape[0])\n",
        "np.random.shuffle(indices)\n",
        "data1 = data1[indices]\n",
        "labels = labels[indices]\n",
        "\"\"\"x_train = data1[:training_samples]\n",
        "y_train = labels[:training_samples]\n",
        "x_val = data1[training_samples: training_samples + validation_samples]\n",
        "y_val = labels[training_samples: training_samples + validation_samples]\n",
        "x_test = data1[validation_samples: validation_samples + test_samples]\n",
        "y_test = labels[validation_samples: validation_samples + test_samples]\"\"\"\n",
        "\n",
        "#from sklearn.model_selection import train_test_split\n",
        "\n",
        "from sklearn.model_selection import train_test_split\n",
        "\n",
        "\n",
        "X_train, X_test, y_train, y_test = train_test_split(data1, labels, test_size=0.1, random_state=0)\n",
        "#X_train, X_val, y_train, y_val = train_test_split(X_train, y_train, test_size=0.03, random_state=0)"
      ],
      "execution_count": 9,
      "outputs": [
        {
          "output_type": "stream",
          "text": [
            "TensorFlow 1.x selected.\n"
          ],
          "name": "stdout"
        },
        {
          "output_type": "stream",
          "text": [
            "Using TensorFlow backend.\n"
          ],
          "name": "stderr"
        },
        {
          "output_type": "stream",
          "text": [
            "Found 17160 unique tokens.\n",
            "[[    0     0     0 ...  6085  6086  1342]\n",
            " [    0     0     0 ...    31   133  2084]\n",
            " [    0     0     0 ...   281  6088  6089]\n",
            " ...\n",
            " [    0     0     0 ...    85    26  3403]\n",
            " [    0     0     0 ...    64     3 17158]\n",
            " [    0     0     0 ...  3514   986 17160]]\n",
            "Shape of data tensor: (8201, 4)\n",
            "Shape of label tensor: (8201, 3)\n"
          ],
          "name": "stdout"
        }
      ]
    },
    {
      "cell_type": "code",
      "metadata": {
        "colab_type": "code",
        "id": "ZFH_G83H7wvb",
        "colab": {
          "base_uri": "https://localhost:8080/",
          "height": 52
        },
        "outputId": "5adc3894-e224-40f4-b17e-bc11f1d19d47"
      },
      "source": [
        "print(labels.shape)\n",
        "print(y_test.shape)"
      ],
      "execution_count": 10,
      "outputs": [
        {
          "output_type": "stream",
          "text": [
            "(8201, 3)\n",
            "(821, 3)\n"
          ],
          "name": "stdout"
        }
      ]
    },
    {
      "cell_type": "code",
      "metadata": {
        "id": "-4u-l1FRLFLB",
        "colab_type": "code",
        "colab": {
          "base_uri": "https://localhost:8080/",
          "height": 35
        },
        "outputId": "ad864536-4245-4b63-f561-03613ff59e69"
      },
      "source": [
        "y_train.shape"
      ],
      "execution_count": 11,
      "outputs": [
        {
          "output_type": "execute_result",
          "data": {
            "text/plain": [
              "(7380, 3)"
            ]
          },
          "metadata": {
            "tags": []
          },
          "execution_count": 11
        }
      ]
    },
    {
      "cell_type": "code",
      "metadata": {
        "id": "axCr_RXuHE_D",
        "colab_type": "code",
        "colab": {
          "base_uri": "https://localhost:8080/",
          "height": 728
        },
        "outputId": "4a8390aa-72b5-4f73-9d94-e9286cf2ed7d"
      },
      "source": [
        "from keras.models import Sequential\n",
        "from keras.layers import Embedding, Flatten, Dense, Dropout\n",
        "from keras.layers import Embedding, LSTM\n",
        "from keras import regularizers\n",
        "from keras import layers\n",
        "from keras.layers import Bidirectional\n",
        "from keras.layers import TimeDistributed\n",
        "embedding_dim = 300\n",
        "\n",
        "model3 = Sequential()\n",
        "model3.add(Embedding(max_words, embedding_dim, input_length=maxlen))\n",
        "model3.add(layers.GRU(32,return_sequences = True, dropout=0.2,recurrent_dropout=0.2))\n",
        "model3.add(layers.GRU(32, return_sequences= True))\n",
        "model3.add(layers.GlobalMaxPooling1D())\n",
        "model3.add(layers.Dense(10, activation='relu'))\n",
        "model3.add(layers.Dense(3, activation='softmax'))\n",
        "model3.compile(optimizer='adam',\n",
        "              loss='categorical_crossentropy',\n",
        "              metrics=['accuracy'])\n",
        "model3.summary()\n",
        "\n",
        "\n",
        "\n",
        "history = model3.fit(X_train, y_train, epochs=10, batch_size=2048, validation_split = 0.1, shuffle=True)\n"
      ],
      "execution_count": 14,
      "outputs": [
        {
          "output_type": "stream",
          "text": [
            "Model: \"sequential_3\"\n",
            "_________________________________________________________________\n",
            "Layer (type)                 Output Shape              Param #   \n",
            "=================================================================\n",
            "embedding_3 (Embedding)      (None, 280, 300)          12000000  \n",
            "_________________________________________________________________\n",
            "gru_5 (GRU)                  (None, 280, 32)           31968     \n",
            "_________________________________________________________________\n",
            "gru_6 (GRU)                  (None, 280, 32)           6240      \n",
            "_________________________________________________________________\n",
            "global_max_pooling1d_3 (Glob (None, 32)                0         \n",
            "_________________________________________________________________\n",
            "dense_5 (Dense)              (None, 10)                330       \n",
            "_________________________________________________________________\n",
            "dense_6 (Dense)              (None, 3)                 33        \n",
            "=================================================================\n",
            "Total params: 12,038,571\n",
            "Trainable params: 12,038,571\n",
            "Non-trainable params: 0\n",
            "_________________________________________________________________\n",
            "Train on 6642 samples, validate on 738 samples\n",
            "Epoch 1/10\n",
            "6642/6642 [==============================] - 5s 819us/step - loss: 1.0968 - accuracy: 0.3546 - val_loss: 1.0862 - val_accuracy: 0.4417\n",
            "Epoch 2/10\n",
            "6642/6642 [==============================] - 4s 668us/step - loss: 1.0745 - accuracy: 0.4687 - val_loss: 1.0756 - val_accuracy: 0.4417\n",
            "Epoch 3/10\n",
            "6642/6642 [==============================] - 4s 668us/step - loss: 1.0595 - accuracy: 0.4687 - val_loss: 1.0693 - val_accuracy: 0.4417\n",
            "Epoch 4/10\n",
            "6642/6642 [==============================] - 4s 665us/step - loss: 1.0507 - accuracy: 0.4687 - val_loss: 1.0630 - val_accuracy: 0.4417\n",
            "Epoch 5/10\n",
            "6642/6642 [==============================] - 4s 660us/step - loss: 1.0400 - accuracy: 0.4687 - val_loss: 1.0523 - val_accuracy: 0.4417\n",
            "Epoch 6/10\n",
            "6642/6642 [==============================] - 4s 671us/step - loss: 1.0202 - accuracy: 0.4696 - val_loss: 1.0380 - val_accuracy: 0.4851\n",
            "Epoch 7/10\n",
            "6642/6642 [==============================] - 4s 672us/step - loss: 0.9925 - accuracy: 0.5032 - val_loss: 1.0200 - val_accuracy: 0.5014\n",
            "Epoch 8/10\n",
            "6642/6642 [==============================] - 4s 667us/step - loss: 0.9573 - accuracy: 0.5434 - val_loss: 0.9996 - val_accuracy: 0.5528\n",
            "Epoch 9/10\n",
            "6642/6642 [==============================] - 5s 679us/step - loss: 0.9134 - accuracy: 0.6198 - val_loss: 0.9768 - val_accuracy: 0.5976\n",
            "Epoch 10/10\n",
            "6642/6642 [==============================] - 4s 672us/step - loss: 0.8607 - accuracy: 0.6775 - val_loss: 0.9539 - val_accuracy: 0.6125\n"
          ],
          "name": "stdout"
        }
      ]
    },
    {
      "cell_type": "code",
      "metadata": {
        "id": "io9R8BKWVvoB",
        "colab_type": "code",
        "colab": {}
      },
      "source": [
        "from sklearn.metrics import precision_score , recall_score\n",
        "y_val_pred=model3.predict_classes(X_test)"
      ],
      "execution_count": 15,
      "outputs": []
    },
    {
      "cell_type": "code",
      "metadata": {
        "id": "MiLglTmpWW_5",
        "colab_type": "code",
        "colab": {
          "base_uri": "https://localhost:8080/",
          "height": 35
        },
        "outputId": "128a5ed8-a85d-470d-dae6-d9fbd04f0df2"
      },
      "source": [
        "from sklearn.metrics import accuracy_score\n",
        "from sklearn.metrics import precision_score\n",
        "from sklearn.metrics import recall_score\n",
        "from sklearn.metrics import f1_score\n",
        "from sklearn.metrics import cohen_kappa_score\n",
        "from sklearn.metrics import roc_auc_score\n",
        "from sklearn.metrics import confusion_matrix\n",
        "\n",
        "\n",
        "rounded_labels=np.argmax(y_test, axis=1)\n",
        "\n",
        "\n",
        "# accuracy: (tp + tn) / (p + n)\n",
        "accuracy = accuracy_score(rounded_labels, y_val_pred)\n",
        "print('Accuracy: %f' % accuracy)\n",
        "# precision tp / (tp + fp)\n",
        "#precision = precision_score(rounded_labels, y_val_pred)\n",
        "#print('Precision: %f' %precision)\n",
        "# recall: tp / (tp + fn)\n",
        "#recall = recall_score(rounded_labels, y_val_pred, average = 'weighted')\n",
        "#print('Recall: %f' %recall)\n",
        "# f1: 2 tp / (2 tp + fp + fn)\n",
        "#f1 = f1_score(rounded_labels, y_val_pred)\n",
        "#print('F1: %f' %f1)\n",
        "# accuracy: (tp + tn) / (p + n)"
      ],
      "execution_count": 17,
      "outputs": [
        {
          "output_type": "stream",
          "text": [
            "Accuracy: 0.609013\n"
          ],
          "name": "stdout"
        }
      ]
    },
    {
      "cell_type": "code",
      "metadata": {
        "id": "fMfySZC8WimA",
        "colab_type": "code",
        "colab": {}
      },
      "source": [
        ""
      ],
      "execution_count": null,
      "outputs": []
    }
  ]
}