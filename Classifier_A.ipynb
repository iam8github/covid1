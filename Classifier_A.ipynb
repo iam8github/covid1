{
  "nbformat": 4,
  "nbformat_minor": 0,
  "metadata": {
    "colab": {
      "name": "Classifier_A.ipynb",
      "provenance": [],
      "collapsed_sections": []
    },
    "kernelspec": {
      "name": "python3",
      "display_name": "Python 3"
    },
    "accelerator": "GPU"
  },
  "cells": [
    {
      "cell_type": "code",
      "metadata": {
        "id": "kRG2kj5r4553",
        "colab_type": "code",
        "colab": {
          "base_uri": "https://localhost:8080/",
          "height": 123
        },
        "outputId": "05f659e4-ce33-48d5-dabc-bc2624ba224f"
      },
      "source": [
        "from google.colab import drive\n",
        "drive.mount('/content/drive')\n"
      ],
      "execution_count": null,
      "outputs": [
        {
          "output_type": "stream",
          "text": [
            "Go to this URL in a browser: https://accounts.google.com/o/oauth2/auth?client_id=947318989803-6bn6qk8qdgf4n4g3pfee6491hc0brc4i.apps.googleusercontent.com&redirect_uri=urn%3aietf%3awg%3aoauth%3a2.0%3aoob&response_type=code&scope=email%20https%3a%2f%2fwww.googleapis.com%2fauth%2fdocs.test%20https%3a%2f%2fwww.googleapis.com%2fauth%2fdrive%20https%3a%2f%2fwww.googleapis.com%2fauth%2fdrive.photos.readonly%20https%3a%2f%2fwww.googleapis.com%2fauth%2fpeopleapi.readonly\n",
            "\n",
            "Enter your authorization code:\n",
            "··········\n",
            "Mounted at /content/drive\n"
          ],
          "name": "stdout"
        }
      ]
    },
    {
      "cell_type": "code",
      "metadata": {
        "id": "mg-Lb6YT5DAg",
        "colab_type": "code",
        "colab": {
          "base_uri": "https://localhost:8080/",
          "height": 89
        },
        "outputId": "1eab4a10-7c62-4fe0-f96e-846cd7da116e"
      },
      "source": [
        "from keras.models import load_model\n",
        "model2 = load_model('/content/drive/My Drive/NLP/models/FASTText_LSTM_10_epochs.h5')\n",
        "#0 --> negative\n",
        "#1 --> positive"
      ],
      "execution_count": null,
      "outputs": [
        {
          "output_type": "stream",
          "text": [
            "Using TensorFlow backend.\n",
            "/usr/local/lib/python3.6/dist-packages/tensorflow/python/framework/indexed_slices.py:434: UserWarning: Converting sparse IndexedSlices to a dense Tensor of unknown shape. This may consume a large amount of memory.\n",
            "  \"Converting sparse IndexedSlices to a dense Tensor of unknown shape. \"\n"
          ],
          "name": "stderr"
        }
      ]
    },
    {
      "cell_type": "code",
      "metadata": {
        "id": "_KiasfON5Shj",
        "colab_type": "code",
        "colab": {
          "base_uri": "https://localhost:8080/",
          "height": 259
        },
        "outputId": "530354ed-3ab5-412e-dc16-dedf87797ea1"
      },
      "source": [
        "model2.summary()"
      ],
      "execution_count": null,
      "outputs": [
        {
          "output_type": "stream",
          "text": [
            "Model: \"sequential_1\"\n",
            "_________________________________________________________________\n",
            "Layer (type)                 Output Shape              Param #   \n",
            "=================================================================\n",
            "embedding_1 (Embedding)      (None, 280, 300)          12000000  \n",
            "_________________________________________________________________\n",
            "lstm_1 (LSTM)                (None, 32)                42624     \n",
            "_________________________________________________________________\n",
            "dense_1 (Dense)              (None, 2)                 66        \n",
            "=================================================================\n",
            "Total params: 12,042,690\n",
            "Trainable params: 12,042,690\n",
            "Non-trainable params: 0\n",
            "_________________________________________________________________\n"
          ],
          "name": "stdout"
        }
      ]
    },
    {
      "cell_type": "code",
      "metadata": {
        "id": "4NQz1YHN5W_U",
        "colab_type": "code",
        "colab": {}
      },
      "source": [
        "dataset = '/content/drive/My Drive/NLP/COVID/TweetsWIthEMoticonFeb.csv'"
      ],
      "execution_count": null,
      "outputs": []
    },
    {
      "cell_type": "code",
      "metadata": {
        "id": "9PP0dcsY7lhm",
        "colab_type": "code",
        "colab": {
          "base_uri": "https://localhost:8080/",
          "height": 202
        },
        "outputId": "ea386d0b-6617-4a55-a8df-76842e7f59c8"
      },
      "source": [
        "import pandas as pd \n",
        "data = pd.read_csv(dataset) \n",
        "data.head()"
      ],
      "execution_count": null,
      "outputs": [
        {
          "output_type": "execute_result",
          "data": {
            "text/html": [
              "<div>\n",
              "<style scoped>\n",
              "    .dataframe tbody tr th:only-of-type {\n",
              "        vertical-align: middle;\n",
              "    }\n",
              "\n",
              "    .dataframe tbody tr th {\n",
              "        vertical-align: top;\n",
              "    }\n",
              "\n",
              "    .dataframe thead th {\n",
              "        text-align: right;\n",
              "    }\n",
              "</style>\n",
              "<table border=\"1\" class=\"dataframe\">\n",
              "  <thead>\n",
              "    <tr style=\"text-align: right;\">\n",
              "      <th></th>\n",
              "      <th>id</th>\n",
              "      <th>date</th>\n",
              "      <th>text</th>\n",
              "      <th>emoticon</th>\n",
              "      <th>polarity</th>\n",
              "      <th>subjectivity</th>\n",
              "      <th>country</th>\n",
              "    </tr>\n",
              "  </thead>\n",
              "  <tbody>\n",
              "    <tr>\n",
              "      <th>0</th>\n",
              "      <td>1.227360e+18</td>\n",
              "      <td>2/12/2020 3:39</td>\n",
              "      <td>Coronavirus UPDATE CONFIRMED CASES WORLDWIDE =...</td>\n",
              "      <td>[]</td>\n",
              "      <td>0.022222</td>\n",
              "      <td>0.822222</td>\n",
              "      <td>Pakistan</td>\n",
              "    </tr>\n",
              "    <tr>\n",
              "      <th>1</th>\n",
              "      <td>1.227360e+18</td>\n",
              "      <td>2/12/2020 3:22</td>\n",
              "      <td>BREAKING Epicenter coronavirus outbreak report...</td>\n",
              "      <td>[]</td>\n",
              "      <td>0.136364</td>\n",
              "      <td>0.454545</td>\n",
              "      <td>Pakistan</td>\n",
              "    </tr>\n",
              "    <tr>\n",
              "      <th>2</th>\n",
              "      <td>1.227330e+18</td>\n",
              "      <td>2/12/2020 1:35</td>\n",
              "      <td>The WorldHealthOrganization WHO said vaccine c...</td>\n",
              "      <td>[]</td>\n",
              "      <td>0.200000</td>\n",
              "      <td>0.500000</td>\n",
              "      <td>Pakistan</td>\n",
              "    </tr>\n",
              "    <tr>\n",
              "      <th>3</th>\n",
              "      <td>1.227330e+18</td>\n",
              "      <td>2/12/2020 1:32</td>\n",
              "      <td>Germany confirmed two cases coronavirus southe...</td>\n",
              "      <td>[]</td>\n",
              "      <td>0.100000</td>\n",
              "      <td>0.437500</td>\n",
              "      <td>Pakistan</td>\n",
              "    </tr>\n",
              "    <tr>\n",
              "      <th>4</th>\n",
              "      <td>1.227320e+18</td>\n",
              "      <td>2/12/2020 1:10</td>\n",
              "      <td>The World Health Organization says official na...</td>\n",
              "      <td>[]</td>\n",
              "      <td>0.136364</td>\n",
              "      <td>0.454545</td>\n",
              "      <td>Pakistan</td>\n",
              "    </tr>\n",
              "  </tbody>\n",
              "</table>\n",
              "</div>"
            ],
            "text/plain": [
              "             id            date  ... subjectivity   country\n",
              "0  1.227360e+18  2/12/2020 3:39  ...     0.822222  Pakistan\n",
              "1  1.227360e+18  2/12/2020 3:22  ...     0.454545  Pakistan\n",
              "2  1.227330e+18  2/12/2020 1:35  ...     0.500000  Pakistan\n",
              "3  1.227330e+18  2/12/2020 1:32  ...     0.437500  Pakistan\n",
              "4  1.227320e+18  2/12/2020 1:10  ...     0.454545  Pakistan\n",
              "\n",
              "[5 rows x 7 columns]"
            ]
          },
          "metadata": {
            "tags": []
          },
          "execution_count": 5
        }
      ]
    },
    {
      "cell_type": "code",
      "metadata": {
        "id": "icTjZoY07pYB",
        "colab_type": "code",
        "colab": {
          "base_uri": "https://localhost:8080/",
          "height": 155
        },
        "outputId": "7c5b1c31-54a9-45ba-969f-10bc4ffce683"
      },
      "source": [
        "data.count()"
      ],
      "execution_count": null,
      "outputs": [
        {
          "output_type": "execute_result",
          "data": {
            "text/plain": [
              "id              27357\n",
              "date            27357\n",
              "text            27357\n",
              "emoticon        27357\n",
              "polarity        27357\n",
              "subjectivity    27357\n",
              "country         27357\n",
              "dtype: int64"
            ]
          },
          "metadata": {
            "tags": []
          },
          "execution_count": 6
        }
      ]
    },
    {
      "cell_type": "code",
      "metadata": {
        "id": "RerGWxsE8Rs9",
        "colab_type": "code",
        "colab": {
          "base_uri": "https://localhost:8080/",
          "height": 138
        },
        "outputId": "0592688c-3ba0-4714-880c-cce75e296539"
      },
      "source": [
        "data.country.value_counts()"
      ],
      "execution_count": null,
      "outputs": [
        {
          "output_type": "execute_result",
          "data": {
            "text/plain": [
              "USA         10295\n",
              "India        8455\n",
              "Canada       5367\n",
              "Pakistan     2501\n",
              "Sweden        571\n",
              "Norway        168\n",
              "Name: country, dtype: int64"
            ]
          },
          "metadata": {
            "tags": []
          },
          "execution_count": 7
        }
      ]
    },
    {
      "cell_type": "code",
      "metadata": {
        "id": "-R7GIcGL8mVU",
        "colab_type": "code",
        "colab": {
          "base_uri": "https://localhost:8080/",
          "height": 51
        },
        "outputId": "0f41265a-2af9-4cc1-f633-1e59a327ee66"
      },
      "source": [
        "data.emoticon.value_counts()"
      ],
      "execution_count": null,
      "outputs": [
        {
          "output_type": "execute_result",
          "data": {
            "text/plain": [
              "[]    27357\n",
              "Name: emoticon, dtype: int64"
            ]
          },
          "metadata": {
            "tags": []
          },
          "execution_count": 8
        }
      ]
    },
    {
      "cell_type": "code",
      "metadata": {
        "id": "Sd9p6nkl9LPT",
        "colab_type": "code",
        "colab": {
          "base_uri": "https://localhost:8080/",
          "height": 51
        },
        "outputId": "91b1ffdf-e368-4385-de82-9324fd84eb9b"
      },
      "source": [
        "data.lang.value_counts()"
      ],
      "execution_count": null,
      "outputs": [
        {
          "output_type": "execute_result",
          "data": {
            "text/plain": [
              "en    310848\n",
              "Name: lang, dtype: int64"
            ]
          },
          "metadata": {
            "tags": []
          },
          "execution_count": 12
        }
      ]
    },
    {
      "cell_type": "code",
      "metadata": {
        "id": "AfDJCfML9QO4",
        "colab_type": "code",
        "colab": {
          "base_uri": "https://localhost:8080/",
          "height": 411
        },
        "outputId": "1e78e2f0-f821-4ca8-c332-b989116ecc55"
      },
      "source": [
        "data.count()"
      ],
      "execution_count": null,
      "outputs": [
        {
          "output_type": "execute_result",
          "data": {
            "text/plain": [
              "status_id               310848\n",
              "user_id                 310848\n",
              "created_at              310848\n",
              "screen_name             310848\n",
              "text                    310848\n",
              "source                  310848\n",
              "reply_to_status_id       44171\n",
              "reply_to_user_id         54910\n",
              "reply_to_screen_name     54910\n",
              "is_quote                310848\n",
              "is_retweet              310848\n",
              "favourites_count        310848\n",
              "retweet_count           310848\n",
              "country_code             18444\n",
              "place_full_name          18568\n",
              "place_type               18568\n",
              "followers_count         310848\n",
              "friends_count           310848\n",
              "account_lang                 0\n",
              "account_created_at      310848\n",
              "verified                310848\n",
              "lang                    310848\n",
              "dtype: int64"
            ]
          },
          "metadata": {
            "tags": []
          },
          "execution_count": 13
        }
      ]
    },
    {
      "cell_type": "code",
      "metadata": {
        "id": "UT4vLs769TEJ",
        "colab_type": "code",
        "colab": {
          "base_uri": "https://localhost:8080/",
          "height": 137
        },
        "outputId": "8b311fce-6c83-4867-abf4-2eb95e61bbb3"
      },
      "source": [
        "data.country.value_counts()"
      ],
      "execution_count": null,
      "outputs": [
        {
          "output_type": "execute_result",
          "data": {
            "text/plain": [
              "USA         10295\n",
              "India        8455\n",
              "Canada       5367\n",
              "Pakistan     2501\n",
              "Sweden        571\n",
              "Norway        168\n",
              "Name: country, dtype: int64"
            ]
          },
          "metadata": {
            "tags": []
          },
          "execution_count": 13
        }
      ]
    },
    {
      "cell_type": "code",
      "metadata": {
        "id": "5SFgdnPP9oJ7",
        "colab_type": "code",
        "colab": {
          "base_uri": "https://localhost:8080/",
          "height": 411
        },
        "outputId": "625fcf38-ca23-4153-9e52-991a0832e50a"
      },
      "source": [
        "data_copy = data\n",
        "data_copy.count()"
      ],
      "execution_count": null,
      "outputs": [
        {
          "output_type": "execute_result",
          "data": {
            "text/plain": [
              "status_id               310848\n",
              "user_id                 310848\n",
              "created_at              310848\n",
              "screen_name             310848\n",
              "text                    310848\n",
              "source                  310848\n",
              "reply_to_status_id       44171\n",
              "reply_to_user_id         54910\n",
              "reply_to_screen_name     54910\n",
              "is_quote                310848\n",
              "is_retweet              310848\n",
              "favourites_count        310848\n",
              "retweet_count           310848\n",
              "country_code             18444\n",
              "place_full_name          18568\n",
              "place_type               18568\n",
              "followers_count         310848\n",
              "friends_count           310848\n",
              "account_lang                 0\n",
              "account_created_at      310848\n",
              "verified                310848\n",
              "lang                    310848\n",
              "dtype: int64"
            ]
          },
          "metadata": {
            "tags": []
          },
          "execution_count": 15
        }
      ]
    },
    {
      "cell_type": "code",
      "metadata": {
        "id": "r24nxcfF_gaN",
        "colab_type": "code",
        "colab": {}
      },
      "source": [
        "data_copy.drop(data_copy.loc[data_copy.country_code != 'PK'].index, inplace=True)"
      ],
      "execution_count": null,
      "outputs": []
    },
    {
      "cell_type": "code",
      "metadata": {
        "id": "no21xzEHAFaT",
        "colab_type": "code",
        "colab": {
          "base_uri": "https://localhost:8080/",
          "height": 411
        },
        "outputId": "e1c4beb1-6840-46d8-d3cc-563a5864f2d2"
      },
      "source": [
        "data_copy.count()"
      ],
      "execution_count": null,
      "outputs": [
        {
          "output_type": "execute_result",
          "data": {
            "text/plain": [
              "status_id               304\n",
              "user_id                 304\n",
              "created_at              304\n",
              "screen_name             304\n",
              "text                    304\n",
              "source                  304\n",
              "reply_to_status_id       23\n",
              "reply_to_user_id         30\n",
              "reply_to_screen_name     30\n",
              "is_quote                304\n",
              "is_retweet              304\n",
              "favourites_count        304\n",
              "retweet_count           304\n",
              "country_code            304\n",
              "place_full_name         304\n",
              "place_type              304\n",
              "followers_count         304\n",
              "friends_count           304\n",
              "account_lang              0\n",
              "account_created_at      304\n",
              "verified                304\n",
              "lang                    304\n",
              "dtype: int64"
            ]
          },
          "metadata": {
            "tags": []
          },
          "execution_count": 17
        }
      ]
    },
    {
      "cell_type": "code",
      "metadata": {
        "id": "C-KQ-8EqAIXr",
        "colab_type": "code",
        "colab": {
          "base_uri": "https://localhost:8080/",
          "height": 394
        },
        "outputId": "74a3d646-c339-4880-e6a8-f054b6e44744"
      },
      "source": [
        "data_copy.head()"
      ],
      "execution_count": null,
      "outputs": [
        {
          "output_type": "execute_result",
          "data": {
            "text/html": [
              "<div>\n",
              "<style scoped>\n",
              "    .dataframe tbody tr th:only-of-type {\n",
              "        vertical-align: middle;\n",
              "    }\n",
              "\n",
              "    .dataframe tbody tr th {\n",
              "        vertical-align: top;\n",
              "    }\n",
              "\n",
              "    .dataframe thead th {\n",
              "        text-align: right;\n",
              "    }\n",
              "</style>\n",
              "<table border=\"1\" class=\"dataframe\">\n",
              "  <thead>\n",
              "    <tr style=\"text-align: right;\">\n",
              "      <th></th>\n",
              "      <th>status_id</th>\n",
              "      <th>user_id</th>\n",
              "      <th>created_at</th>\n",
              "      <th>screen_name</th>\n",
              "      <th>text</th>\n",
              "      <th>source</th>\n",
              "      <th>reply_to_status_id</th>\n",
              "      <th>reply_to_user_id</th>\n",
              "      <th>reply_to_screen_name</th>\n",
              "      <th>is_quote</th>\n",
              "      <th>is_retweet</th>\n",
              "      <th>favourites_count</th>\n",
              "      <th>retweet_count</th>\n",
              "      <th>country_code</th>\n",
              "      <th>place_full_name</th>\n",
              "      <th>place_type</th>\n",
              "      <th>followers_count</th>\n",
              "      <th>friends_count</th>\n",
              "      <th>account_lang</th>\n",
              "      <th>account_created_at</th>\n",
              "      <th>verified</th>\n",
              "      <th>lang</th>\n",
              "    </tr>\n",
              "  </thead>\n",
              "  <tbody>\n",
              "    <tr>\n",
              "      <th>2232</th>\n",
              "      <td>1243690434699952133</td>\n",
              "      <td>229036346</td>\n",
              "      <td>2020-03-28T00:04:40Z</td>\n",
              "      <td>muhemran</td>\n",
              "      <td>#COVID19 - #coronavirusinpakistan please #Stay...</td>\n",
              "      <td>Twitter for iPhone</td>\n",
              "      <td>NaN</td>\n",
              "      <td>NaN</td>\n",
              "      <td>NaN</td>\n",
              "      <td>False</td>\n",
              "      <td>False</td>\n",
              "      <td>3261</td>\n",
              "      <td>0</td>\n",
              "      <td>PK</td>\n",
              "      <td>Peshawar, Pakistan</td>\n",
              "      <td>city</td>\n",
              "      <td>2612</td>\n",
              "      <td>979</td>\n",
              "      <td>NaN</td>\n",
              "      <td>2010-12-21T10:23:58Z</td>\n",
              "      <td>False</td>\n",
              "      <td>en</td>\n",
              "    </tr>\n",
              "    <tr>\n",
              "      <th>4653</th>\n",
              "      <td>1243691875934130176</td>\n",
              "      <td>2815321160</td>\n",
              "      <td>2020-03-28T00:10:24Z</td>\n",
              "      <td>MunafKalia</td>\n",
              "      <td>#Coronavirus global as on 27/3/20:\\n\\nTotal ca...</td>\n",
              "      <td>Twitter for iPhone</td>\n",
              "      <td>NaN</td>\n",
              "      <td>NaN</td>\n",
              "      <td>NaN</td>\n",
              "      <td>False</td>\n",
              "      <td>False</td>\n",
              "      <td>94</td>\n",
              "      <td>0</td>\n",
              "      <td>PK</td>\n",
              "      <td>Karachi, Pakistan</td>\n",
              "      <td>city</td>\n",
              "      <td>242</td>\n",
              "      <td>109</td>\n",
              "      <td>NaN</td>\n",
              "      <td>2014-09-17T17:34:14Z</td>\n",
              "      <td>False</td>\n",
              "      <td>en</td>\n",
              "    </tr>\n",
              "    <tr>\n",
              "      <th>21229</th>\n",
              "      <td>1243703175988817921</td>\n",
              "      <td>259788895</td>\n",
              "      <td>2020-03-28T00:55:18Z</td>\n",
              "      <td>hmbilal1992</td>\n",
              "      <td>#COVID19 is proving a fortune for nature. Disr...</td>\n",
              "      <td>Twitter for Android</td>\n",
              "      <td>NaN</td>\n",
              "      <td>NaN</td>\n",
              "      <td>NaN</td>\n",
              "      <td>False</td>\n",
              "      <td>False</td>\n",
              "      <td>6735</td>\n",
              "      <td>0</td>\n",
              "      <td>PK</td>\n",
              "      <td>Punjab, Pakistan</td>\n",
              "      <td>admin</td>\n",
              "      <td>880</td>\n",
              "      <td>82</td>\n",
              "      <td>NaN</td>\n",
              "      <td>2011-03-02T16:09:06Z</td>\n",
              "      <td>False</td>\n",
              "      <td>en</td>\n",
              "    </tr>\n",
              "    <tr>\n",
              "      <th>33377</th>\n",
              "      <td>1243711282714415112</td>\n",
              "      <td>611658349</td>\n",
              "      <td>2020-03-28T01:27:31Z</td>\n",
              "      <td>Sadiajavedppp</td>\n",
              "      <td>Good morning \\n#TogetherWeCan \\n#CoronavirusPa...</td>\n",
              "      <td>Twitter for Android</td>\n",
              "      <td>NaN</td>\n",
              "      <td>NaN</td>\n",
              "      <td>NaN</td>\n",
              "      <td>False</td>\n",
              "      <td>False</td>\n",
              "      <td>13623</td>\n",
              "      <td>8</td>\n",
              "      <td>PK</td>\n",
              "      <td>Defence Authority Beachview Club</td>\n",
              "      <td>poi</td>\n",
              "      <td>25628</td>\n",
              "      <td>794</td>\n",
              "      <td>NaN</td>\n",
              "      <td>2012-06-18T12:46:52Z</td>\n",
              "      <td>False</td>\n",
              "      <td>en</td>\n",
              "    </tr>\n",
              "    <tr>\n",
              "      <th>36794</th>\n",
              "      <td>1243713685387988994</td>\n",
              "      <td>990417292516364289</td>\n",
              "      <td>2020-03-28T01:37:04Z</td>\n",
              "      <td>SairaBiochemist</td>\n",
              "      <td>Science knows no country just belongs to human...</td>\n",
              "      <td>Twitter for Android</td>\n",
              "      <td>NaN</td>\n",
              "      <td>NaN</td>\n",
              "      <td>NaN</td>\n",
              "      <td>True</td>\n",
              "      <td>False</td>\n",
              "      <td>2820</td>\n",
              "      <td>2</td>\n",
              "      <td>PK</td>\n",
              "      <td>Sargodha, Pakistan</td>\n",
              "      <td>city</td>\n",
              "      <td>323</td>\n",
              "      <td>1235</td>\n",
              "      <td>NaN</td>\n",
              "      <td>2018-04-29T02:27:38Z</td>\n",
              "      <td>False</td>\n",
              "      <td>en</td>\n",
              "    </tr>\n",
              "  </tbody>\n",
              "</table>\n",
              "</div>"
            ],
            "text/plain": [
              "                 status_id             user_id  ... verified lang\n",
              "2232   1243690434699952133           229036346  ...    False   en\n",
              "4653   1243691875934130176          2815321160  ...    False   en\n",
              "21229  1243703175988817921           259788895  ...    False   en\n",
              "33377  1243711282714415112           611658349  ...    False   en\n",
              "36794  1243713685387988994  990417292516364289  ...    False   en\n",
              "\n",
              "[5 rows x 22 columns]"
            ]
          },
          "metadata": {
            "tags": []
          },
          "execution_count": 18
        }
      ]
    },
    {
      "cell_type": "code",
      "metadata": {
        "id": "cgYLE_hSARAL",
        "colab_type": "code",
        "colab": {
          "base_uri": "https://localhost:8080/",
          "height": 171
        },
        "outputId": "f00adef6-25ec-4666-f285-935b61f1c1a6"
      },
      "source": [
        "%tensorflow_version 1.x\n",
        "\n",
        "\n",
        "\n",
        "from keras import backend as K\n",
        "#K.tensorflow_backend._get_available_gpus()\n",
        "\n",
        "\n",
        "from keras.preprocessing.text import Tokenizer\n",
        "from keras.preprocessing.sequence import pad_sequences\n",
        "import numpy as np\n",
        "maxlen = 280\n",
        "max_words = 40000\n",
        "tokenizer = Tokenizer(num_words=max_words)\n",
        "#tokenizer.fit_on_texts(data['Tweet'])\n",
        "#sequences = tokenizer.texts_to_sequences(data['Tweet'])\n",
        "\n",
        "tokenizer.fit_on_texts(data_copy['text'])\n",
        "sequences = tokenizer.texts_to_sequences(data_copy['text'])\n",
        "\n",
        "word_index = tokenizer.word_index\n",
        "print('Found %s unique tokens.' % len(word_index))\n",
        "data1 = pad_sequences(sequences, maxlen=maxlen)\n",
        "print(data1)"
      ],
      "execution_count": null,
      "outputs": [
        {
          "output_type": "stream",
          "text": [
            "TensorFlow is already loaded. Please restart the runtime to change versions.\n",
            "Found 2953 unique tokens.\n",
            "[[   0    0    0 ...    2    3  884]\n",
            " [   0    0    0 ...   46  332   66]\n",
            " [   0    0    0 ...    2    3  899]\n",
            " ...\n",
            " [   0    0    0 ...    2    3 2943]\n",
            " [   0    0    0 ...    2    3 2947]\n",
            " [   0    0    0 ...    2    3 2953]]\n"
          ],
          "name": "stdout"
        }
      ]
    },
    {
      "cell_type": "code",
      "metadata": {
        "id": "W1bb1bxABKhW",
        "colab_type": "code",
        "colab": {}
      },
      "source": [
        "from sklearn.metrics import precision_score , recall_score\n",
        "y_val_pred=model2.predict_classes(data1)"
      ],
      "execution_count": null,
      "outputs": []
    },
    {
      "cell_type": "code",
      "metadata": {
        "id": "IwC1o12VBxrj",
        "colab_type": "code",
        "colab": {
          "base_uri": "https://localhost:8080/",
          "height": 257
        },
        "outputId": "5a0aafc5-dc41-446a-9048-4e7b951849ea"
      },
      "source": [
        "y_val_pred"
      ],
      "execution_count": null,
      "outputs": [
        {
          "output_type": "execute_result",
          "data": {
            "text/plain": [
              "array([0, 0, 0, 0, 0, 0, 0, 0, 1, 0, 0, 0, 0, 1, 0, 0, 1, 0, 0, 0, 0, 0,\n",
              "       0, 1, 1, 1, 0, 1, 0, 0, 0, 0, 0, 0, 0, 0, 0, 0, 0, 0, 0, 0, 0, 0,\n",
              "       0, 0, 0, 1, 0, 1, 0, 0, 0, 0, 0, 1, 1, 0, 0, 1, 0, 0, 0, 0, 0, 0,\n",
              "       0, 0, 0, 1, 0, 0, 0, 0, 1, 0, 0, 0, 0, 1, 0, 0, 0, 0, 0, 0, 0, 0,\n",
              "       1, 1, 0, 1, 0, 1, 1, 1, 0, 1, 0, 0, 1, 0, 1, 1, 1, 0, 1, 1, 0, 0,\n",
              "       0, 0, 0, 1, 1, 0, 0, 0, 0, 1, 1, 1, 0, 0, 0, 0, 0, 0, 0, 0, 0, 1,\n",
              "       0, 0, 0, 0, 0, 1, 0, 1, 1, 1, 0, 0, 1, 0, 0, 1, 0, 0, 0, 0, 1, 0,\n",
              "       0, 0, 0, 1, 0, 0, 0, 0, 0, 0, 0, 1, 0, 0, 0, 1, 0, 0, 0, 0, 0, 0,\n",
              "       0, 1, 0, 1, 0, 0, 0, 1, 0, 0, 0, 0, 0, 1, 0, 0, 1, 1, 1, 0, 1, 0,\n",
              "       1, 1, 0, 1, 0, 0, 0, 1, 1, 0, 0, 0, 1, 1, 0, 0, 0, 0, 0, 1, 0, 0,\n",
              "       0, 0, 0, 1, 0, 0, 0, 1, 1, 0, 0, 0, 0, 0, 0, 0, 0, 0, 0, 0, 1, 0,\n",
              "       1, 0, 0, 1, 0, 0, 0, 0, 0, 0, 0, 1, 0, 0, 0, 0, 0, 1, 1, 1, 0, 0,\n",
              "       1, 1, 0, 1, 0, 1, 0, 0, 0, 1, 0, 0, 0, 0, 0, 0, 0, 0, 1, 0, 1, 0,\n",
              "       0, 0, 1, 0, 0, 0, 1, 0, 0, 0, 1, 1, 0, 0, 1, 0, 0, 0])"
            ]
          },
          "metadata": {
            "tags": []
          },
          "execution_count": 21
        }
      ]
    },
    {
      "cell_type": "code",
      "metadata": {
        "id": "oQskXi0mBz2r",
        "colab_type": "code",
        "colab": {}
      },
      "source": [
        " import numpy as numpy\n",
        " unique, counts = numpy.unique(y_val_pred, return_counts=True)"
      ],
      "execution_count": null,
      "outputs": []
    },
    {
      "cell_type": "code",
      "metadata": {
        "id": "jnUdy7uIDFn_",
        "colab_type": "code",
        "colab": {
          "base_uri": "https://localhost:8080/",
          "height": 34
        },
        "outputId": "d4dc90dd-def3-44dc-b7d8-43fb67f902a2"
      },
      "source": [
        "unique"
      ],
      "execution_count": null,
      "outputs": [
        {
          "output_type": "execute_result",
          "data": {
            "text/plain": [
              "array([0, 1])"
            ]
          },
          "metadata": {
            "tags": []
          },
          "execution_count": 24
        }
      ]
    },
    {
      "cell_type": "code",
      "metadata": {
        "id": "dkXGAoyyDK9q",
        "colab_type": "code",
        "colab": {
          "base_uri": "https://localhost:8080/",
          "height": 34
        },
        "outputId": "99306cf0-2326-4615-9233-8aee2ca49b28"
      },
      "source": [
        "counts[1]"
      ],
      "execution_count": null,
      "outputs": [
        {
          "output_type": "execute_result",
          "data": {
            "text/plain": [
              "82"
            ]
          },
          "metadata": {
            "tags": []
          },
          "execution_count": 30
        }
      ]
    },
    {
      "cell_type": "code",
      "metadata": {
        "id": "HZ-lYxhFDMsa",
        "colab_type": "code",
        "colab": {
          "base_uri": "https://localhost:8080/",
          "height": 228
        },
        "outputId": "2769174f-2ba4-4ffe-b6de-6d0e4b399dbd"
      },
      "source": [
        "import matplotlib.pyplot as plt\n",
        "names = ['negative', 'positive']\n",
        "values = [counts[0],counts[1]]\n",
        "plt.figure(figsize=(9, 3))\n",
        "plt.subplot(131)\n",
        "plt.bar(names, values)"
      ],
      "execution_count": null,
      "outputs": [
        {
          "output_type": "execute_result",
          "data": {
            "text/plain": [
              "<BarContainer object of 2 artists>"
            ]
          },
          "metadata": {
            "tags": []
          },
          "execution_count": 31
        },
        {
          "output_type": "display_data",
          "data": {
            "image/png": "[encoded data removed]",
            "text/plain": [
              "<Figure size 648x216 with 1 Axes>"
            ]
          },
          "metadata": {
            "tags": [],
            "needs_background": "light"
          }
        }
      ]
    },
    {
      "cell_type": "code",
      "metadata": {
        "id": "t4oyhtXoDjsa",
        "colab_type": "code",
        "colab": {
          "base_uri": "https://localhost:8080/",
          "height": 34
        },
        "outputId": "5245518e-ed36-437a-ccd9-9da7760799c6"
      },
      "source": [
        "y_val_pred[8]"
      ],
      "execution_count": null,
      "outputs": [
        {
          "output_type": "execute_result",
          "data": {
            "text/plain": [
              "1"
            ]
          },
          "metadata": {
            "tags": []
          },
          "execution_count": 35
        }
      ]
    },
    {
      "cell_type": "code",
      "metadata": {
        "id": "kEV2u1_2FrH0",
        "colab_type": "code",
        "colab": {}
      },
      "source": [
        "data_copy = data"
      ],
      "execution_count": null,
      "outputs": []
    },
    {
      "cell_type": "code",
      "metadata": {
        "id": "rjLCYtM7GUd6",
        "colab_type": "code",
        "colab": {
          "base_uri": "https://localhost:8080/",
          "height": 51
        },
        "outputId": "d2259ac2-0441-447e-e542-5c646bb17df6"
      },
      "source": [
        "data.country_code.value_counts()"
      ],
      "execution_count": null,
      "outputs": [
        {
          "output_type": "execute_result",
          "data": {
            "text/plain": [
              "PK    304\n",
              "Name: country_code, dtype: int64"
            ]
          },
          "metadata": {
            "tags": []
          },
          "execution_count": 38
        }
      ]
    },
    {
      "cell_type": "code",
      "metadata": {
        "id": "ua1wEdgeGZiK",
        "colab_type": "code",
        "colab": {
          "base_uri": "https://localhost:8080/",
          "height": 277
        },
        "outputId": "08ae255e-eaa6-4e77-e422-b44471a84803"
      },
      "source": [
        "# Reading full directory\n",
        "\n",
        "import glob\n",
        "import pandas as pd\n",
        "directoryPath = '/content/drive/My Drive/NLP/COVID/April_2/'\n",
        "april_data = pd.DataFrame()\n",
        "col_list = [\"text\", \"country_code\", \"lang\", \"status_id\", \"user_id\"]\n",
        "for file_name in glob.glob(directoryPath+'*.CSV'):\n",
        "    print(file_name)\n",
        "\n",
        "    x = pd.read_csv(file_name, low_memory=False, usecols=col_list)\n",
        "    x.drop(x.loc[x.lang != 'en'].index, inplace=True)\n",
        "    indexNames = x[ (x['country_code'] != 'PK') & (x['country_code'] != 'IN') & (x['country_code'] != 'CA') & (x['country_code'] != 'US') & (x['country_code'] != 'SE') & (x['country_code'] != 'NO') & (x['country_code'] != 'BY') & (x['country_code'] != 'BR')  ].index\n",
        "    x.drop(indexNames , inplace=True)\n",
        "    x['date'] = file_name[42:52]\n",
        "    april_data = pd.concat([april_data,x],axis=0)"
      ],
      "execution_count": null,
      "outputs": [
        {
          "output_type": "stream",
          "text": [
            "/content/drive/My Drive/NLP/COVID/April_2/2020-04-16 Coronavirus Tweets.CSV\n",
            "/content/drive/My Drive/NLP/COVID/April_2/2020-04-17 Coronavirus Tweets.CSV\n",
            "/content/drive/My Drive/NLP/COVID/April_2/2020-04-18 Coronavirus Tweets.CSV\n",
            "/content/drive/My Drive/NLP/COVID/April_2/2020-04-19 Coronavirus Tweets.CSV\n",
            "/content/drive/My Drive/NLP/COVID/April_2/2020-04-20 Coronavirus Tweets.CSV\n",
            "/content/drive/My Drive/NLP/COVID/April_2/2020-04-21 Coronavirus Tweets.CSV\n",
            "/content/drive/My Drive/NLP/COVID/April_2/2020-04-22 Coronavirus Tweets.CSV\n",
            "/content/drive/My Drive/NLP/COVID/April_2/2020-04-23 Coronavirus Tweets.CSV\n",
            "/content/drive/My Drive/NLP/COVID/April_2/2020-04-24 Coronavirus Tweets.CSV\n",
            "/content/drive/My Drive/NLP/COVID/April_2/2020-04-25 Coronavirus Tweets.CSV\n",
            "/content/drive/My Drive/NLP/COVID/April_2/2020-04-26 Coronavirus Tweets.CSV\n",
            "/content/drive/My Drive/NLP/COVID/April_2/2020-04-27 Coronavirus Tweets.CSV\n",
            "/content/drive/My Drive/NLP/COVID/April_2/2020-04-28 Coronavirus Tweets.CSV\n",
            "/content/drive/My Drive/NLP/COVID/April_2/2020-04-29 Coronavirus Tweets.CSV\n",
            "/content/drive/My Drive/NLP/COVID/April_2/2020-04-30 Coronavirus Tweets.CSV\n"
          ],
          "name": "stdout"
        }
      ]
    },
    {
      "cell_type": "code",
      "metadata": {
        "id": "_havumw7EYzR",
        "colab_type": "code",
        "colab": {
          "base_uri": "https://localhost:8080/",
          "height": 138
        },
        "outputId": "4b99beb8-4070-4a8a-afc8-b9f56a094251"
      },
      "source": [
        "april_data.count()"
      ],
      "execution_count": null,
      "outputs": [
        {
          "output_type": "execute_result",
          "data": {
            "text/plain": [
              "status_id       88507\n",
              "user_id         88507\n",
              "text            88507\n",
              "country_code    88507\n",
              "lang            88507\n",
              "date            88507\n",
              "dtype: int64"
            ]
          },
          "metadata": {
            "tags": []
          },
          "execution_count": 16
        }
      ]
    },
    {
      "cell_type": "code",
      "metadata": {
        "id": "fUt16JbALZcv",
        "colab_type": "code",
        "colab": {
          "base_uri": "https://localhost:8080/",
          "height": 294
        },
        "outputId": "a81dd6a7-5099-42bd-bc92-ca1f3c6c6cd7"
      },
      "source": [
        "april_data.date.value_counts()"
      ],
      "execution_count": null,
      "outputs": [
        {
          "output_type": "execute_result",
          "data": {
            "text/plain": [
              "2020-04-16    7925\n",
              "2020-04-17    7733\n",
              "2020-04-24    6655\n",
              "2020-04-22    6246\n",
              "2020-04-18    6125\n",
              "2020-04-21    5849\n",
              "2020-04-23    5795\n",
              "2020-04-19    5755\n",
              "2020-04-20    5633\n",
              "2020-04-29    5548\n",
              "2020-04-25    5271\n",
              "2020-04-27    5244\n",
              "2020-04-28    5148\n",
              "2020-04-30    4848\n",
              "2020-04-26    4732\n",
              "Name: date, dtype: int64"
            ]
          },
          "metadata": {
            "tags": []
          },
          "execution_count": 17
        }
      ]
    },
    {
      "cell_type": "code",
      "metadata": {
        "id": "oGzQFnsNNtyn",
        "colab_type": "code",
        "colab": {
          "base_uri": "https://localhost:8080/",
          "height": 415
        },
        "outputId": "9774917b-c907-4eac-c846-b4dfce525a8f"
      },
      "source": [
        "april_data"
      ],
      "execution_count": null,
      "outputs": [
        {
          "output_type": "execute_result",
          "data": {
            "text/html": [
              "<div>\n",
              "<style scoped>\n",
              "    .dataframe tbody tr th:only-of-type {\n",
              "        vertical-align: middle;\n",
              "    }\n",
              "\n",
              "    .dataframe tbody tr th {\n",
              "        vertical-align: top;\n",
              "    }\n",
              "\n",
              "    .dataframe thead th {\n",
              "        text-align: right;\n",
              "    }\n",
              "</style>\n",
              "<table border=\"1\" class=\"dataframe\">\n",
              "  <thead>\n",
              "    <tr style=\"text-align: right;\">\n",
              "      <th></th>\n",
              "      <th>status_id</th>\n",
              "      <th>user_id</th>\n",
              "      <th>text</th>\n",
              "      <th>country_code</th>\n",
              "      <th>lang</th>\n",
              "      <th>date</th>\n",
              "    </tr>\n",
              "  </thead>\n",
              "  <tbody>\n",
              "    <tr>\n",
              "      <th>157</th>\n",
              "      <td>1250574631616069641</td>\n",
              "      <td>626679510</td>\n",
              "      <td>This should make my meetings way more producti...</td>\n",
              "      <td>US</td>\n",
              "      <td>en</td>\n",
              "      <td>2020-04-16</td>\n",
              "    </tr>\n",
              "    <tr>\n",
              "      <th>402</th>\n",
              "      <td>1250574746850394117</td>\n",
              "      <td>34578589</td>\n",
              "      <td>Only during #COVID19 can you work from home, f...</td>\n",
              "      <td>US</td>\n",
              "      <td>en</td>\n",
              "      <td>2020-04-16</td>\n",
              "    </tr>\n",
              "    <tr>\n",
              "      <th>553</th>\n",
              "      <td>1250574858091663361</td>\n",
              "      <td>21361348</td>\n",
              "      <td>FROM MY COLD, DEAD HAND, DR. TEDROS!\\n\\n#coron...</td>\n",
              "      <td>US</td>\n",
              "      <td>en</td>\n",
              "      <td>2020-04-16</td>\n",
              "    </tr>\n",
              "    <tr>\n",
              "      <th>707</th>\n",
              "      <td>1250574966648713216</td>\n",
              "      <td>70834125</td>\n",
              "      <td>One day I will share my story about my #Covid_...</td>\n",
              "      <td>US</td>\n",
              "      <td>en</td>\n",
              "      <td>2020-04-16</td>\n",
              "    </tr>\n",
              "    <tr>\n",
              "      <th>873</th>\n",
              "      <td>1250575125709234182</td>\n",
              "      <td>4182841153</td>\n",
              "      <td>Me after a month of quarantine \\n\\nhttps://t.c...</td>\n",
              "      <td>US</td>\n",
              "      <td>en</td>\n",
              "      <td>2020-04-16</td>\n",
              "    </tr>\n",
              "    <tr>\n",
              "      <th>...</th>\n",
              "      <td>...</td>\n",
              "      <td>...</td>\n",
              "      <td>...</td>\n",
              "      <td>...</td>\n",
              "      <td>...</td>\n",
              "      <td>...</td>\n",
              "    </tr>\n",
              "    <tr>\n",
              "      <th>355203</th>\n",
              "      <td>1256010180120231936</td>\n",
              "      <td>4894186627</td>\n",
              "      <td>“National Day of Action! From the @TorontoOPS ...</td>\n",
              "      <td>CA</td>\n",
              "      <td>en</td>\n",
              "      <td>2020-04-30</td>\n",
              "    </tr>\n",
              "    <tr>\n",
              "      <th>355253</th>\n",
              "      <td>1256010264878645248</td>\n",
              "      <td>16423423</td>\n",
              "      <td>Petal power 🌸 #afternoonrun #covid_19 @ Seward...</td>\n",
              "      <td>US</td>\n",
              "      <td>en</td>\n",
              "      <td>2020-04-30</td>\n",
              "    </tr>\n",
              "    <tr>\n",
              "      <th>355323</th>\n",
              "      <td>1256010363440517120</td>\n",
              "      <td>179779935</td>\n",
              "      <td>If you're going to make me wear a \"face coveri...</td>\n",
              "      <td>US</td>\n",
              "      <td>en</td>\n",
              "      <td>2020-04-30</td>\n",
              "    </tr>\n",
              "    <tr>\n",
              "      <th>355355</th>\n",
              "      <td>1256010400279248903</td>\n",
              "      <td>25009031</td>\n",
              "      <td>Inspiring, hopeful, transformative &amp;amp; power...</td>\n",
              "      <td>US</td>\n",
              "      <td>en</td>\n",
              "      <td>2020-04-30</td>\n",
              "    </tr>\n",
              "    <tr>\n",
              "      <th>355386</th>\n",
              "      <td>1256010440007716867</td>\n",
              "      <td>1043656483</td>\n",
              "      <td>@WFXTMalini @CMichaelGibson @boston25 I had th...</td>\n",
              "      <td>US</td>\n",
              "      <td>en</td>\n",
              "      <td>2020-04-30</td>\n",
              "    </tr>\n",
              "  </tbody>\n",
              "</table>\n",
              "<p>88507 rows × 6 columns</p>\n",
              "</div>"
            ],
            "text/plain": [
              "                  status_id     user_id  ... lang        date\n",
              "157     1250574631616069641   626679510  ...   en  2020-04-16\n",
              "402     1250574746850394117    34578589  ...   en  2020-04-16\n",
              "553     1250574858091663361    21361348  ...   en  2020-04-16\n",
              "707     1250574966648713216    70834125  ...   en  2020-04-16\n",
              "873     1250575125709234182  4182841153  ...   en  2020-04-16\n",
              "...                     ...         ...  ...  ...         ...\n",
              "355203  1256010180120231936  4894186627  ...   en  2020-04-30\n",
              "355253  1256010264878645248    16423423  ...   en  2020-04-30\n",
              "355323  1256010363440517120   179779935  ...   en  2020-04-30\n",
              "355355  1256010400279248903    25009031  ...   en  2020-04-30\n",
              "355386  1256010440007716867  1043656483  ...   en  2020-04-30\n",
              "\n",
              "[88507 rows x 6 columns]"
            ]
          },
          "metadata": {
            "tags": []
          },
          "execution_count": 18
        }
      ]
    },
    {
      "cell_type": "code",
      "metadata": {
        "id": "cQHiBFibQ199",
        "colab_type": "code",
        "colab": {
          "base_uri": "https://localhost:8080/",
          "height": 182
        },
        "outputId": "009c66ee-94de-44dd-a86c-a2adc0183965"
      },
      "source": [
        "writePath = '/content/drive/My Drive/NLP/COVID/cleaned_data/with_dates/April_2.CSV'\n",
        "april_data.to_csv(writePath, header=True, index = False)"
      ],
      "execution_count": null,
      "outputs": [
        {
          "output_type": "error",
          "ename": "NameError",
          "evalue": "ignored",
          "traceback": [
            "\u001b[0;31m---------------------------------------------------------------------------\u001b[0m",
            "\u001b[0;31mNameError\u001b[0m                                 Traceback (most recent call last)",
            "\u001b[0;32m<ipython-input-1-f3eef20f39bf>\u001b[0m in \u001b[0;36m<module>\u001b[0;34m()\u001b[0m\n\u001b[1;32m      1\u001b[0m \u001b[0mwritePath\u001b[0m \u001b[0;34m=\u001b[0m \u001b[0;34m'/content/drive/My Drive/NLP/COVID/cleaned_data/data_with_emoticons/only_pos_neg.CSV'\u001b[0m\u001b[0;34m\u001b[0m\u001b[0;34m\u001b[0m\u001b[0m\n\u001b[0;32m----> 2\u001b[0;31m \u001b[0mapril_data\u001b[0m\u001b[0;34m.\u001b[0m\u001b[0mto_csv\u001b[0m\u001b[0;34m(\u001b[0m\u001b[0mwritePath\u001b[0m\u001b[0;34m,\u001b[0m \u001b[0mheader\u001b[0m\u001b[0;34m=\u001b[0m\u001b[0;32mTrue\u001b[0m\u001b[0;34m,\u001b[0m \u001b[0mindex\u001b[0m \u001b[0;34m=\u001b[0m \u001b[0;32mFalse\u001b[0m\u001b[0;34m)\u001b[0m\u001b[0;34m\u001b[0m\u001b[0;34m\u001b[0m\u001b[0m\n\u001b[0m",
            "\u001b[0;31mNameError\u001b[0m: name 'april_data' is not defined"
          ]
        }
      ]
    },
    {
      "cell_type": "code",
      "metadata": {
        "id": "mBo9lDKGP6yj",
        "colab_type": "code",
        "colab": {
          "base_uri": "https://localhost:8080/",
          "height": 450
        },
        "outputId": "0717fd0c-a9c8-4968-9259-b38d4a298b81"
      },
      "source": [
        "country_sentiment_file('Canada', '/content/drive/My Drive/NLP/COVID/TweetsWIthEMoticonFeb.csv','/content/drive/My Drive/NLP/COVID/Country_Sentiments/feb_dataset/Canada.CSV')"
      ],
      "execution_count": null,
      "outputs": [
        {
          "output_type": "stream",
          "text": [
            "/content/drive/My Drive/NLP/COVID/TweetsWIthEMoticonFeb.csv\n",
            "total tweets forCanada are id              5367\n",
            "date            5367\n",
            "text            5367\n",
            "emoticon        5367\n",
            "polarity        5367\n",
            "subjectivity    5367\n",
            "country         5367\n",
            "dtype: int64\n",
            "Found 18144 unique tokens.\n",
            "[1 1 1 ... 0 0 0]\n",
            "(5367,)\n",
            "                 id            date  ... country sentiment\n",
            "21990  1.227370e+18  2/12/2020 4:00  ...  Canada         1\n",
            "21991  1.227360e+18  2/12/2020 3:52  ...  Canada         1\n",
            "21992  1.227360e+18  2/12/2020 3:46  ...  Canada         1\n",
            "21993  1.227360e+18  2/12/2020 3:46  ...  Canada         1\n",
            "21994  1.227360e+18  2/12/2020 3:43  ...  Canada         0\n",
            "21995  1.227360e+18  2/12/2020 3:40  ...  Canada         1\n",
            "21996  1.227360e+18  2/12/2020 3:37  ...  Canada         1\n",
            "21997  1.227360e+18  2/12/2020 3:27  ...  Canada         1\n",
            "21998  1.227360e+18  2/12/2020 3:26  ...  Canada         0\n",
            "21999  1.227360e+18  2/12/2020 3:19  ...  Canada         0\n",
            "\n",
            "[10 rows x 8 columns]\n"
          ],
          "name": "stdout"
        }
      ]
    },
    {
      "cell_type": "code",
      "metadata": {
        "id": "ghm5jJTO2YFV",
        "colab_type": "code",
        "colab": {}
      },
      "source": [
        "#extract country wise emoticons\n",
        "def country_sentiment_file(country_code, input_file, save_path):\n",
        "  directoryPath = input_file\n",
        "  cleaned_data = pd.DataFrame()\n",
        "#col_list = [\"text\", \"country_code\",\"date\"]\n",
        "  file_name = input_file\n",
        "  print(file_name)\n",
        "\n",
        "  x = pd.read_csv(file_name, low_memory=False)#, usecols=col_list)\n",
        "    #x.drop(x.loc[x.lang != 'en'].index, inplace=True)\n",
        "  #indexNames = x[ (x['country_code'] != 'PK') & (x['country_code'] != 'IN') & (x['country_code'] != 'CA') & (x['country_code'] != 'US') & (x['country_code'] != 'SE') & (x['country_code'] != 'NO') & (x['country_code'] != 'BY') & (x['country_code'] != 'BR')  ].index\n",
        "  indexNames = x[ (x['country'] != country_code) ].index\n",
        "  x.drop(indexNames , inplace=True)\n",
        "  cleaned_data = pd.concat([cleaned_data,x],axis=0)\n",
        "  \n",
        "  print(\"total tweets for\"+country_code+\" are \"+ str(cleaned_data.count()))\n",
        "  # extract sentiment\n",
        "\n",
        "  maxlen = 280\n",
        "  max_words = 40000 \n",
        "  tokenizer = Tokenizer(num_words=max_words)\n",
        "  tokenizer.fit_on_texts(cleaned_data['text'])\n",
        "  sequences = tokenizer.texts_to_sequences(cleaned_data['text'])\n",
        "  word_index = tokenizer.word_index\n",
        "  print('Found %s unique tokens.' % len(word_index))\n",
        "  data1 = pad_sequences(sequences, maxlen=maxlen)\n",
        "  \n",
        "  #predictions\n",
        "  y_val_pred=model2.predict_classes(data1)\n",
        "\n",
        "  print(y_val_pred)\n",
        "  print(y_val_pred.shape)\n",
        "\n",
        "  #get counts\n",
        "  #unique, counts = numpy.unique(y_val_pred, return_counts=True)\n",
        "  #with open(filepath, mode='a+') as file:\n",
        "   # file_writer = csv.writer(save_path, delimiter=',', quotechar='\"', quoting=csv.QUOTE_MINIMAL)\n",
        "   # file_writer.writerow([date, (counts[0] + counts[1]), counts[1], counts[0], (counts[1]/(counts[0] + counts[1]) *100)])\n",
        "  cleaned_data['sentiment'] = y_val_pred\n",
        "  print(cleaned_data.head(10))\n",
        "  cleaned_data.to_csv(save_path, header=True, index = False)\n",
        "  \n",
        "\n"
      ],
      "execution_count": null,
      "outputs": []
    },
    {
      "cell_type": "code",
      "metadata": {
        "id": "WarSHxiFP687",
        "colab_type": "code",
        "colab": {}
      },
      "source": [
        "#extract country wise emoticons\n",
        "def country_sentiment(country_code, input_file, save_path):\n",
        "  directoryPath = input_file\n",
        "  cleaned_data = pd.DataFrame()\n",
        "#col_list = [\"text\", \"country_code\",\"date\"]\n",
        "  for file_name in glob.glob(directoryPath+'*.csv'):\n",
        "    print(file_name)\n",
        "\n",
        "    x = pd.read_csv(file_name, low_memory=False)#, usecols=col_list)\n",
        "    #x.drop(x.loc[x.lang != 'en'].index, inplace=True)\n",
        "    #indexNames = x[ (x['country_code'] != 'PK') & (x['country_code'] != 'IN') & (x['country_code'] != 'CA') & (x['country_code'] != 'US') & (x['country_code'] != 'SE') & (x['country_code'] != 'NO') & (x['country_code'] != 'BY') & (x['country_code'] != 'BR')  ].index\n",
        "    indexNames = x[ (x['country'] != country_code) ].index\n",
        "    x.drop(indexNames , inplace=True)\n",
        "    cleaned_data = pd.concat([cleaned_data,x],axis=0)\n",
        "  \n",
        "  print(\"total tweets for\"+country_code+\" are \"+ str(cleaned_data.count()))\n",
        "  # extract sentiment\n",
        "\n",
        "  maxlen = 280\n",
        "  max_words = 40000 \n",
        "  tokenizer = Tokenizer(num_words=max_words)\n",
        "  tokenizer.fit_on_texts(cleaned_data['text'])\n",
        "  sequences = tokenizer.texts_to_sequences(cleaned_data['text'])\n",
        "  word_index = tokenizer.word_index\n",
        "  print('Found %s unique tokens.' % len(word_index))\n",
        "  data1 = pad_sequences(sequences, maxlen=maxlen)\n",
        "  \n",
        "  #predictions\n",
        "  y_val_pred=model2.predict_classes(data1)\n",
        "\n",
        "  print(y_val_pred)\n",
        "  print(y_val_pred.shape)\n",
        "\n",
        "  #get counts\n",
        "  #unique, counts = numpy.unique(y_val_pred, return_counts=True)\n",
        "  #with open(filepath, mode='a+') as file:\n",
        "   # file_writer = csv.writer(save_path, delimiter=',', quotechar='\"', quoting=csv.QUOTE_MINIMAL)\n",
        "   # file_writer.writerow([date, (counts[0] + counts[1]), counts[1], counts[0], (counts[1]/(counts[0] + counts[1]) *100)])\n",
        "  cleaned_data['sentiment'] = y_val_pred\n",
        "  print(cleaned_data.head(10))\n",
        "  cleaned_data.to_csv(save_path, header=True, index = False)\n",
        "  \n",
        "\n"
      ],
      "execution_count": null,
      "outputs": []
    },
    {
      "cell_type": "code",
      "metadata": {
        "id": "_fJw9UzDT33H",
        "colab_type": "code",
        "colab": {
          "base_uri": "https://localhost:8080/",
          "height": 165
        },
        "outputId": "11326c31-60a0-4b51-dd3e-3115760737c9"
      },
      "source": [
        "y_val_pred"
      ],
      "execution_count": null,
      "outputs": [
        {
          "output_type": "error",
          "ename": "NameError",
          "evalue": "ignored",
          "traceback": [
            "\u001b[0;31m---------------------------------------------------------------------------\u001b[0m",
            "\u001b[0;31mNameError\u001b[0m                                 Traceback (most recent call last)",
            "\u001b[0;32m<ipython-input-14-cac7ada8c27a>\u001b[0m in \u001b[0;36m<module>\u001b[0;34m()\u001b[0m\n\u001b[0;32m----> 1\u001b[0;31m \u001b[0my_val_pred\u001b[0m\u001b[0;34m\u001b[0m\u001b[0;34m\u001b[0m\u001b[0m\n\u001b[0m",
            "\u001b[0;31mNameError\u001b[0m: name 'y_val_pred' is not defined"
          ]
        }
      ]
    },
    {
      "cell_type": "code",
      "metadata": {
        "id": "pg1JwusVaTlu",
        "colab_type": "code",
        "colab": {
          "base_uri": "https://localhost:8080/",
          "height": 69
        },
        "outputId": "072ade0f-888f-4bf0-8394-8ece6c7b8836"
      },
      "source": [
        "#sentiment extraction from the cleaned data\n",
        "#USA\n",
        "\n",
        "import glob\n",
        "import pandas as pd\n",
        "directoryPath = '/content/drive/My Drive/NLP/COVID/cleaned_data/data_with_emoticons/'\n",
        "cleaned_data = pd.DataFrame()\n",
        "#col_list = [\"text\", \"country_code\",\"date\"]\n",
        "for file_name in glob.glob(directoryPath+'*.csv'):\n",
        "    print(file_name)\n",
        "\n",
        "    x = pd.read_csv(file_name, low_memory=False)#, usecols=col_list)\n",
        "    #x.drop(x.loc[x.lang != 'en'].index, inplace=True)\n",
        "    #indexNames = x[ (x['country_code'] != 'PK') & (x['country_code'] != 'IN') & (x['country_code'] != 'CA') & (x['country_code'] != 'US') & (x['country_code'] != 'SE') & (x['country_code'] != 'NO') & (x['country_code'] != 'BY') & (x['country_code'] != 'BR')  ].index\n",
        "    indexNames = x[ (x['country'] != 'PK') ].index\n",
        "    x.drop(indexNames , inplace=True)\n",
        "    cleaned_data = pd.concat([cleaned_data,x],axis=0)\n"
      ],
      "execution_count": null,
      "outputs": [
        {
          "output_type": "stream",
          "text": [
            "/content/drive/My Drive/NLP/COVID/cleaned_data/data_with_emoticons/TweetsWIthEMoticonMarch.csv\n",
            "/content/drive/My Drive/NLP/COVID/cleaned_data/data_with_emoticons/TweetsWIthEMoticonApril_1.csv\n",
            "/content/drive/My Drive/NLP/COVID/cleaned_data/data_with_emoticons/TweetsWIthEMoticonApril_2.csv\n"
          ],
          "name": "stdout"
        }
      ]
    },
    {
      "cell_type": "code",
      "metadata": {
        "id": "ktkAlS63fFDq",
        "colab_type": "code",
        "colab": {
          "base_uri": "https://localhost:8080/",
          "height": 190
        },
        "outputId": "bb5fc78c-7b63-437b-bfce-c43992fe56a9"
      },
      "source": [
        "cleaned_data.count()"
      ],
      "execution_count": null,
      "outputs": [
        {
          "output_type": "execute_result",
          "data": {
            "text/plain": [
              "ID              4913\n",
              "date            9869\n",
              "text            9869\n",
              "emoticon        9869\n",
              "polarity        9869\n",
              "subjectivity    9869\n",
              "country         9869\n",
              "lang            9869\n",
              "id              4956\n",
              "dtype: int64"
            ]
          },
          "metadata": {
            "tags": []
          },
          "execution_count": 7
        }
      ]
    },
    {
      "cell_type": "code",
      "metadata": {
        "id": "dev8oHb4fL3e",
        "colab_type": "code",
        "colab": {
          "base_uri": "https://localhost:8080/",
          "height": 86
        },
        "outputId": "8b0e9486-3abb-402d-9abd-03b208b59f1c"
      },
      "source": [
        "cleaned_data.count()"
      ],
      "execution_count": null,
      "outputs": [
        {
          "output_type": "execute_result",
          "data": {
            "text/plain": [
              "text            816\n",
              "country_code    816\n",
              "date            816\n",
              "dtype: int64"
            ]
          },
          "metadata": {
            "tags": []
          },
          "execution_count": 52
        }
      ]
    },
    {
      "cell_type": "code",
      "metadata": {
        "id": "HdruxY_XOi0x",
        "colab_type": "code",
        "colab": {
          "base_uri": "https://localhost:8080/",
          "height": 202
        },
        "outputId": "386b8b64-5df6-4e9b-9ded-339d21e6994d"
      },
      "source": [
        "data_country = pd.read_csv('/content/drive/My Drive/NLP/COVID/Country_Sentiments/feb_dataset/Norway.CSV')\n",
        "data_country.head()"
      ],
      "execution_count": null,
      "outputs": [
        {
          "output_type": "execute_result",
          "data": {
            "text/html": [
              "<div>\n",
              "<style scoped>\n",
              "    .dataframe tbody tr th:only-of-type {\n",
              "        vertical-align: middle;\n",
              "    }\n",
              "\n",
              "    .dataframe tbody tr th {\n",
              "        vertical-align: top;\n",
              "    }\n",
              "\n",
              "    .dataframe thead th {\n",
              "        text-align: right;\n",
              "    }\n",
              "</style>\n",
              "<table border=\"1\" class=\"dataframe\">\n",
              "  <thead>\n",
              "    <tr style=\"text-align: right;\">\n",
              "      <th></th>\n",
              "      <th>id</th>\n",
              "      <th>date</th>\n",
              "      <th>text</th>\n",
              "      <th>emoticon</th>\n",
              "      <th>polarity</th>\n",
              "      <th>subjectivity</th>\n",
              "      <th>country</th>\n",
              "      <th>sentiment</th>\n",
              "    </tr>\n",
              "  </thead>\n",
              "  <tbody>\n",
              "    <tr>\n",
              "      <th>0</th>\n",
              "      <td>1.227360e+18</td>\n",
              "      <td>2/12/2020 3:41</td>\n",
              "      <td>Thank use new hashtag covid19 However small he...</td>\n",
              "      <td>[]</td>\n",
              "      <td>-0.056818</td>\n",
              "      <td>0.427273</td>\n",
              "      <td>Norway</td>\n",
              "      <td>0</td>\n",
              "    </tr>\n",
              "    <tr>\n",
              "      <th>1</th>\n",
              "      <td>1.227350e+18</td>\n",
              "      <td>2/12/2020 3:04</td>\n",
              "      <td>This really Heartbreaking Where get films Is r...</td>\n",
              "      <td>[]</td>\n",
              "      <td>0.200000</td>\n",
              "      <td>0.200000</td>\n",
              "      <td>Norway</td>\n",
              "      <td>0</td>\n",
              "    </tr>\n",
              "    <tr>\n",
              "      <th>2</th>\n",
              "      <td>1.227310e+18</td>\n",
              "      <td>2/12/2020 0:02</td>\n",
              "      <td>13000 patients fever ... Not 13000 covid19 pat...</td>\n",
              "      <td>[]</td>\n",
              "      <td>0.000000</td>\n",
              "      <td>0.000000</td>\n",
              "      <td>Norway</td>\n",
              "      <td>0</td>\n",
              "    </tr>\n",
              "    <tr>\n",
              "      <th>3</th>\n",
              "      <td>1.227280e+18</td>\n",
              "      <td>2/11/2020 22:09</td>\n",
              "      <td>The 2nd derivative new coronavirus cases negat...</td>\n",
              "      <td>[]</td>\n",
              "      <td>0.087273</td>\n",
              "      <td>0.330909</td>\n",
              "      <td>Norway</td>\n",
              "      <td>1</td>\n",
              "    </tr>\n",
              "    <tr>\n",
              "      <th>4</th>\n",
              "      <td>1.227230e+18</td>\n",
              "      <td>2/11/2020 18:40</td>\n",
              "      <td>Rystad expects coronavirus cause Chinese oil d...</td>\n",
              "      <td>[]</td>\n",
              "      <td>-0.010000</td>\n",
              "      <td>0.146667</td>\n",
              "      <td>Norway</td>\n",
              "      <td>0</td>\n",
              "    </tr>\n",
              "  </tbody>\n",
              "</table>\n",
              "</div>"
            ],
            "text/plain": [
              "             id             date  ... country sentiment\n",
              "0  1.227360e+18   2/12/2020 3:41  ...  Norway         0\n",
              "1  1.227350e+18   2/12/2020 3:04  ...  Norway         0\n",
              "2  1.227310e+18   2/12/2020 0:02  ...  Norway         0\n",
              "3  1.227280e+18  2/11/2020 22:09  ...  Norway         1\n",
              "4  1.227230e+18  2/11/2020 18:40  ...  Norway         0\n",
              "\n",
              "[5 rows x 8 columns]"
            ]
          },
          "metadata": {
            "tags": []
          },
          "execution_count": 60
        }
      ]
    },
    {
      "cell_type": "code",
      "metadata": {
        "id": "Tw4r7PzDPA1l",
        "colab_type": "code",
        "colab": {}
      },
      "source": [
        "#remove time from date column\n",
        "data_country['date'] = pd.to_datetime(data_country['date']).dt.date"
      ],
      "execution_count": null,
      "outputs": []
    },
    {
      "cell_type": "code",
      "metadata": {
        "id": "I4JJNpabQJbA",
        "colab_type": "code",
        "colab": {
          "base_uri": "https://localhost:8080/",
          "height": 202
        },
        "outputId": "57a3cbb5-2a68-4026-ce3d-f376a765a625"
      },
      "source": [
        "data_country.head()"
      ],
      "execution_count": null,
      "outputs": [
        {
          "output_type": "execute_result",
          "data": {
            "text/html": [
              "<div>\n",
              "<style scoped>\n",
              "    .dataframe tbody tr th:only-of-type {\n",
              "        vertical-align: middle;\n",
              "    }\n",
              "\n",
              "    .dataframe tbody tr th {\n",
              "        vertical-align: top;\n",
              "    }\n",
              "\n",
              "    .dataframe thead th {\n",
              "        text-align: right;\n",
              "    }\n",
              "</style>\n",
              "<table border=\"1\" class=\"dataframe\">\n",
              "  <thead>\n",
              "    <tr style=\"text-align: right;\">\n",
              "      <th></th>\n",
              "      <th>id</th>\n",
              "      <th>date</th>\n",
              "      <th>text</th>\n",
              "      <th>emoticon</th>\n",
              "      <th>polarity</th>\n",
              "      <th>subjectivity</th>\n",
              "      <th>country</th>\n",
              "      <th>sentiment</th>\n",
              "    </tr>\n",
              "  </thead>\n",
              "  <tbody>\n",
              "    <tr>\n",
              "      <th>0</th>\n",
              "      <td>1.227360e+18</td>\n",
              "      <td>2020-02-12</td>\n",
              "      <td>Thank use new hashtag covid19 However small he...</td>\n",
              "      <td>[]</td>\n",
              "      <td>-0.056818</td>\n",
              "      <td>0.427273</td>\n",
              "      <td>Norway</td>\n",
              "      <td>0</td>\n",
              "    </tr>\n",
              "    <tr>\n",
              "      <th>1</th>\n",
              "      <td>1.227350e+18</td>\n",
              "      <td>2020-02-12</td>\n",
              "      <td>This really Heartbreaking Where get films Is r...</td>\n",
              "      <td>[]</td>\n",
              "      <td>0.200000</td>\n",
              "      <td>0.200000</td>\n",
              "      <td>Norway</td>\n",
              "      <td>0</td>\n",
              "    </tr>\n",
              "    <tr>\n",
              "      <th>2</th>\n",
              "      <td>1.227310e+18</td>\n",
              "      <td>2020-02-12</td>\n",
              "      <td>13000 patients fever ... Not 13000 covid19 pat...</td>\n",
              "      <td>[]</td>\n",
              "      <td>0.000000</td>\n",
              "      <td>0.000000</td>\n",
              "      <td>Norway</td>\n",
              "      <td>0</td>\n",
              "    </tr>\n",
              "    <tr>\n",
              "      <th>3</th>\n",
              "      <td>1.227280e+18</td>\n",
              "      <td>2020-02-11</td>\n",
              "      <td>The 2nd derivative new coronavirus cases negat...</td>\n",
              "      <td>[]</td>\n",
              "      <td>0.087273</td>\n",
              "      <td>0.330909</td>\n",
              "      <td>Norway</td>\n",
              "      <td>1</td>\n",
              "    </tr>\n",
              "    <tr>\n",
              "      <th>4</th>\n",
              "      <td>1.227230e+18</td>\n",
              "      <td>2020-02-11</td>\n",
              "      <td>Rystad expects coronavirus cause Chinese oil d...</td>\n",
              "      <td>[]</td>\n",
              "      <td>-0.010000</td>\n",
              "      <td>0.146667</td>\n",
              "      <td>Norway</td>\n",
              "      <td>0</td>\n",
              "    </tr>\n",
              "  </tbody>\n",
              "</table>\n",
              "</div>"
            ],
            "text/plain": [
              "             id        date  ... country sentiment\n",
              "0  1.227360e+18  2020-02-12  ...  Norway         0\n",
              "1  1.227350e+18  2020-02-12  ...  Norway         0\n",
              "2  1.227310e+18  2020-02-12  ...  Norway         0\n",
              "3  1.227280e+18  2020-02-11  ...  Norway         1\n",
              "4  1.227230e+18  2020-02-11  ...  Norway         0\n",
              "\n",
              "[5 rows x 8 columns]"
            ]
          },
          "metadata": {
            "tags": []
          },
          "execution_count": 62
        }
      ]
    },
    {
      "cell_type": "code",
      "metadata": {
        "id": "MX_aqVRFQWDR",
        "colab_type": "code",
        "colab": {
          "base_uri": "https://localhost:8080/",
          "height": 433
        },
        "outputId": "b7b7b7e1-9871-4bd4-cd04-2da77deeb10f"
      },
      "source": [
        "data_country.date.value_counts()"
      ],
      "execution_count": null,
      "outputs": [
        {
          "output_type": "execute_result",
          "data": {
            "text/plain": [
              "2020-02-28    30\n",
              "2020-02-27    22\n",
              "2020-02-25    12\n",
              "2020-02-26    11\n",
              "2020-02-04    11\n",
              "2020-02-12     9\n",
              "2020-02-03     9\n",
              "2020-02-14     7\n",
              "2020-02-23     6\n",
              "2020-02-24     5\n",
              "2020-02-06     5\n",
              "2020-02-18     5\n",
              "2020-02-11     5\n",
              "2020-02-19     5\n",
              "2020-02-09     4\n",
              "2020-02-17     4\n",
              "2020-02-16     3\n",
              "2020-02-07     3\n",
              "2020-02-15     3\n",
              "2020-02-29     3\n",
              "2020-02-05     2\n",
              "2020-02-13     2\n",
              "2020-02-08     2\n",
              "Name: date, dtype: int64"
            ]
          },
          "metadata": {
            "tags": []
          },
          "execution_count": 63
        }
      ]
    },
    {
      "cell_type": "code",
      "metadata": {
        "id": "uJqUR7uoRuK7",
        "colab_type": "code",
        "colab": {
          "base_uri": "https://localhost:8080/",
          "height": 710
        },
        "outputId": "14646063-c3f6-4524-d0fe-a01689260511"
      },
      "source": [
        "import datetime\n",
        "for i in range(3,28):\n",
        "  if i < 10:\n",
        "    start_date = '2020-02-0' + str(i)\n",
        "    end_date = '2020-02-0' + str(i)\n",
        "  else:\n",
        "    start_date = '2020-02-' + str(i)\n",
        "    end_date = '2020-02-' + str(i)\n",
        "  print(start_date)\n",
        "  after_start_date = data_country[\"date\"] >= pd.to_datetime(start_date)\n",
        "  before_end_date = data_country[\"date\"] <= pd.to_datetime(end_date)\n",
        "  between_two_dates = after_start_date & before_end_date\n",
        "  filtered_dates = data_country.loc[between_two_dates]\n",
        "  if filtered_dates.text.size > 3:\n",
        "      one_day_sentiment(filtered_dates,'/content/drive/My Drive/NLP/COVID/Country_Sentiments/feb_dataset/day_wise/Norway.csv',start_date)"
      ],
      "execution_count": null,
      "outputs": [
        {
          "output_type": "stream",
          "text": [
            "2020-02-03\n",
            "Found 161 unique tokens.\n",
            "2020-02-04\n",
            "Found 136 unique tokens.\n",
            "2020-02-05\n",
            "2020-02-06\n",
            "Found 94 unique tokens.\n",
            "2020-02-07\n",
            "2020-02-08\n",
            "2020-02-09\n",
            "Found 75 unique tokens.\n",
            "2020-02-10\n",
            "2020-02-11\n",
            "Found 109 unique tokens.\n",
            "2020-02-12\n",
            "Found 170 unique tokens.\n",
            "2020-02-13\n",
            "2020-02-14\n",
            "Found 121 unique tokens.\n",
            "2020-02-15\n",
            "2020-02-16\n",
            "2020-02-17\n",
            "Found 85 unique tokens.\n",
            "2020-02-18\n",
            "Found 123 unique tokens.\n",
            "2020-02-19\n",
            "Found 137 unique tokens.\n",
            "2020-02-20\n",
            "2020-02-21\n",
            "2020-02-22\n",
            "2020-02-23\n",
            "Found 108 unique tokens.\n",
            "2020-02-24\n",
            "Found 116 unique tokens.\n",
            "2020-02-25\n",
            "Found 208 unique tokens.\n",
            "2020-02-26\n",
            "Found 209 unique tokens.\n",
            "2020-02-27\n",
            "Found 287 unique tokens.\n"
          ],
          "name": "stdout"
        }
      ]
    },
    {
      "cell_type": "code",
      "metadata": {
        "id": "DHNElXMuUTWJ",
        "colab_type": "code",
        "colab": {
          "base_uri": "https://localhost:8080/",
          "height": 34
        },
        "outputId": "bd8ab5b0-21db-4d88-803e-215e4d3660dd"
      },
      "source": [
        "filtered_dates.date.value_counts()"
      ],
      "execution_count": null,
      "outputs": [
        {
          "output_type": "execute_result",
          "data": {
            "text/plain": [
              "Series([], Name: date, dtype: int64)"
            ]
          },
          "metadata": {
            "tags": []
          },
          "execution_count": 32
        }
      ]
    },
    {
      "cell_type": "code",
      "metadata": {
        "id": "5AdCa6OAbH7Z",
        "colab_type": "code",
        "colab": {}
      },
      "source": [
        "import csv\n",
        "def one_day_sentiment(one_day_data,filepath,date):\n",
        "  maxlen = 280\n",
        "  max_words = 40000 \n",
        "  tokenizer = Tokenizer(num_words=max_words)\n",
        "  tokenizer.fit_on_texts(one_day_data['text'])\n",
        "  sequences = tokenizer.texts_to_sequences(one_day_data['text'])\n",
        "  word_index = tokenizer.word_index\n",
        "  print('Found %s unique tokens.' % len(word_index))\n",
        "  data1 = pad_sequences(sequences, maxlen=maxlen)\n",
        "  \n",
        "  #predictions\n",
        "  y_val_pred=model2.predict_classes(data1)\n",
        "\n",
        "  #get counts\n",
        "  unique, counts = numpy.unique(y_val_pred, return_counts=True)\n",
        "  \n",
        "  with open(filepath, mode='a+') as file:\n",
        "    file_writer = csv.writer(file, delimiter=',', quotechar='\"', quoting=csv.QUOTE_MINIMAL)\n",
        "    file_writer.writerow([date, (counts[0] + counts[1]), counts[1], counts[0], (counts[1]/(counts[0] + counts[1]) *100)])\n",
        "    \n",
        " \n",
        "  \n",
        "\n",
        "\n",
        "\n",
        "\n",
        "\n",
        "\n",
        "\n"
      ],
      "execution_count": null,
      "outputs": []
    },
    {
      "cell_type": "code",
      "metadata": {
        "id": "sbZMKdfNdPWe",
        "colab_type": "code",
        "colab": {
          "base_uri": "https://localhost:8080/",
          "height": 34
        },
        "outputId": "3d57b1aa-bb8e-4c0a-f28d-5c72ca738758"
      },
      "source": [
        "%tensorflow_version 1.x\n",
        "\n",
        "\n",
        "\n",
        "from keras import backend as K\n",
        "#K.tensorflow_backend._get_available_gpus()\n",
        "\n",
        "\n",
        "from keras.preprocessing.text import Tokenizer\n",
        "from keras.preprocessing.sequence import pad_sequences\n",
        "import numpy as np\n",
        "from sklearn.metrics import precision_score , recall_score\n",
        "import numpy as numpy"
      ],
      "execution_count": null,
      "outputs": [
        {
          "output_type": "stream",
          "text": [
            "TensorFlow is already loaded. Please restart the runtime to change versions.\n"
          ],
          "name": "stdout"
        }
      ]
    },
    {
      "cell_type": "code",
      "metadata": {
        "id": "8q4axFlVfTP4",
        "colab_type": "code",
        "colab": {
          "base_uri": "https://localhost:8080/",
          "height": 190
        },
        "outputId": "9961aebc-9d71-4177-c422-2bb67ef695f2"
      },
      "source": [
        "%tensorflow_version 1.x\n",
        "\n",
        "\n",
        "\n",
        "from keras import backend as K\n",
        "#K.tensorflow_backend._get_available_gpus()\n",
        "\n",
        "\n",
        "from keras.preprocessing.text import Tokenizer\n",
        "from keras.preprocessing.sequence import pad_sequences\n",
        "import numpy as np\n",
        "maxlen = 280\n",
        "max_words = 40000\n",
        "tokenizer = Tokenizer(num_words=max_words)\n",
        "#tokenizer.fit_on_texts(data['Tweet'])\n",
        "#sequences = tokenizer.texts_to_sequences(data['Tweet'])\n",
        "\n",
        "tokenizer.fit_on_texts(cleaned_data['text'])\n",
        "sequences = tokenizer.texts_to_sequences(cleaned_data['text'])\n",
        "\n",
        "word_index = tokenizer.word_index\n",
        "print('Found %s unique tokens.' % len(word_index))\n",
        "data1 = pad_sequences(sequences, maxlen=maxlen)\n",
        "print(data1)"
      ],
      "execution_count": null,
      "outputs": [
        {
          "output_type": "stream",
          "text": [
            "TensorFlow 1.x selected.\n"
          ],
          "name": "stdout"
        },
        {
          "output_type": "stream",
          "text": [
            "Using TensorFlow backend.\n"
          ],
          "name": "stderr"
        },
        {
          "output_type": "stream",
          "text": [
            "Found 147362 unique tokens.\n",
            "[[    0     0     0 ...     3     2     1]\n",
            " [    0     0     0 ... 13281     9   566]\n",
            " [    0     0     0 ...     3     2     1]\n",
            " ...\n",
            " [    0     0     0 ...    24 28344 21763]\n",
            " [    0     0     0 ...     3     2     1]\n",
            " [    0     0     0 ...     3     2     1]]\n"
          ],
          "name": "stdout"
        }
      ]
    },
    {
      "cell_type": "code",
      "metadata": {
        "id": "Ba4vqFHJgSk1",
        "colab_type": "code",
        "colab": {}
      },
      "source": [
        "from sklearn.metrics import precision_score , recall_score\n",
        "y_val_pred=model2.predict_classes(data1)"
      ],
      "execution_count": null,
      "outputs": []
    },
    {
      "cell_type": "code",
      "metadata": {
        "id": "8_9QbcRAglI1",
        "colab_type": "code",
        "colab": {}
      },
      "source": [
        " import numpy as numpy\n",
        " unique, counts = numpy.unique(y_val_pred, return_counts=True)"
      ],
      "execution_count": null,
      "outputs": []
    },
    {
      "cell_type": "code",
      "metadata": {
        "id": "IoLPeZ47gxOd",
        "colab_type": "code",
        "colab": {
          "base_uri": "https://localhost:8080/",
          "height": 228
        },
        "outputId": "e825aa98-2e09-4441-8253-8b08c50c1112"
      },
      "source": [
        "import matplotlib.pyplot as plt\n",
        "names = ['negative', 'positive']\n",
        "values = [counts[0],counts[1]]\n",
        "plt.figure(figsize=(9, 3))\n",
        "plt.subplot(131)\n",
        "plt.bar(names, values)"
      ],
      "execution_count": null,
      "outputs": [
        {
          "output_type": "execute_result",
          "data": {
            "text/plain": [
              "<BarContainer object of 2 artists>"
            ]
          },
          "metadata": {
            "tags": []
          },
          "execution_count": 50
        },
        {
          "output_type": "display_data",
          "data": {
            "image/png": "[encoded data removed]",
            "text/plain": [
              "<Figure size 648x216 with 1 Axes>"
            ]
          },
          "metadata": {
            "tags": [],
            "needs_background": "light"
          }
        }
      ]
    },
    {
      "cell_type": "code",
      "metadata": {
        "id": "NYrK-crpib8z",
        "colab_type": "code",
        "colab": {
          "base_uri": "https://localhost:8080/",
          "height": 51
        },
        "outputId": "b3f58799-cebf-4ada-ed00-e8b45cfd6dfc"
      },
      "source": [
        "print(counts[0])\n",
        "print(counts[1])"
      ],
      "execution_count": null,
      "outputs": [
        {
          "output_type": "stream",
          "text": [
            "211138\n",
            "166001\n"
          ],
          "name": "stdout"
        }
      ]
    },
    {
      "cell_type": "code",
      "metadata": {
        "id": "ZFafvfZmilBT",
        "colab_type": "code",
        "colab": {
          "base_uri": "https://localhost:8080/",
          "height": 69
        },
        "outputId": "9c372257-c32b-4496-f373-aaafcf0d50a4"
      },
      "source": [
        "#India \n",
        "\n",
        "import glob\n",
        "import pandas as pd\n",
        "directoryPath = '/content/drive/My Drive/NLP/COVID/cleaned_data/'\n",
        "cleaned_data = pd.DataFrame()\n",
        "col_list = [\"text\", \"country_code\"]\n",
        "for file_name in glob.glob(directoryPath+'*.CSV'):\n",
        "    print(file_name)\n",
        "\n",
        "    x = pd.read_csv(file_name, low_memory=False, usecols=col_list)\n",
        "    #x.drop(x.loc[x.lang != 'en'].index, inplace=True)\n",
        "    #indexNames = x[ (x['country_code'] != 'PK') & (x['country_code'] != 'IN') & (x['country_code'] != 'CA') & (x['country_code'] != 'US') & (x['country_code'] != 'SE') & (x['country_code'] != 'NO') & (x['country_code'] != 'BY') & (x['country_code'] != 'BR')  ].index\n",
        "    indexNames = x[ (x['country_code'] != 'IN') ].index\n",
        "    x.drop(indexNames , inplace=True)\n",
        "    cleaned_data = pd.concat([cleaned_data,x],axis=0)\n"
      ],
      "execution_count": null,
      "outputs": [
        {
          "output_type": "stream",
          "text": [
            "/content/drive/My Drive/NLP/COVID/cleaned_data/March.CSV\n",
            "/content/drive/My Drive/NLP/COVID/cleaned_data/April_1.CSV\n",
            "/content/drive/My Drive/NLP/COVID/cleaned_data/April_2.CSV\n"
          ],
          "name": "stdout"
        }
      ]
    },
    {
      "cell_type": "code",
      "metadata": {
        "id": "L5yNBw-9jBH7",
        "colab_type": "code",
        "colab": {
          "base_uri": "https://localhost:8080/",
          "height": 173
        },
        "outputId": "bf7951e7-6597-4e4d-ec9b-991eb37046d1"
      },
      "source": [
        "%tensorflow_version 1.x\n",
        "\n",
        "\n",
        "\n",
        "from keras import backend as K\n",
        "#K.tensorflow_backend._get_available_gpus()\n",
        "\n",
        "\n",
        "from keras.preprocessing.text import Tokenizer\n",
        "from keras.preprocessing.sequence import pad_sequences\n",
        "import numpy as np\n",
        "maxlen = 280\n",
        "max_words = 40000\n",
        "tokenizer = Tokenizer(num_words=max_words)\n",
        "#tokenizer.fit_on_texts(data['Tweet'])\n",
        "#sequences = tokenizer.texts_to_sequences(data['Tweet'])\n",
        "\n",
        "tokenizer.fit_on_texts(cleaned_data['text'])\n",
        "sequences = tokenizer.texts_to_sequences(cleaned_data['text'])\n",
        "\n",
        "word_index = tokenizer.word_index\n",
        "print('Found %s unique tokens.' % len(word_index))\n",
        "data1 = pad_sequences(sequences, maxlen=maxlen)\n",
        "print(data1)"
      ],
      "execution_count": null,
      "outputs": [
        {
          "output_type": "stream",
          "text": [
            "TensorFlow is already loaded. Please restart the runtime to change versions.\n",
            "Found 112426 unique tokens.\n",
            "[[    0     0     0 ...     3     2     1]\n",
            " [    0     0     0 ... 25608     9   580]\n",
            " [    0     0     0 ...     3     2     1]\n",
            " ...\n",
            " [    0     0     0 ...     3     2     1]\n",
            " [    0     0     0 ...     3     2     1]\n",
            " [    0     0     0 ...   574    37    10]]\n"
          ],
          "name": "stdout"
        }
      ]
    },
    {
      "cell_type": "code",
      "metadata": {
        "id": "qOqdzKBsjHdy",
        "colab_type": "code",
        "colab": {}
      },
      "source": [
        "from sklearn.metrics import precision_score , recall_score\n",
        "y_val_pred=model2.predict_classes(data1)"
      ],
      "execution_count": null,
      "outputs": []
    },
    {
      "cell_type": "code",
      "metadata": {
        "id": "hANjLFdhjMry",
        "colab_type": "code",
        "colab": {}
      },
      "source": [
        " import numpy as numpy\n",
        " unique, counts = numpy.unique(y_val_pred, return_counts=True)"
      ],
      "execution_count": null,
      "outputs": []
    },
    {
      "cell_type": "code",
      "metadata": {
        "id": "uELGPYdyjQMG",
        "colab_type": "code",
        "colab": {
          "base_uri": "https://localhost:8080/",
          "height": 228
        },
        "outputId": "a6840477-002e-474f-cef0-db0ed817ddb9"
      },
      "source": [
        "import matplotlib.pyplot as plt\n",
        "names = ['negative', 'positive']\n",
        "values = [counts[0],counts[1]]\n",
        "plt.figure(figsize=(9, 3))\n",
        "plt.subplot(131)\n",
        "plt.bar(names, values)"
      ],
      "execution_count": null,
      "outputs": [
        {
          "output_type": "execute_result",
          "data": {
            "text/plain": [
              "<BarContainer object of 2 artists>"
            ]
          },
          "metadata": {
            "tags": []
          },
          "execution_count": 56
        },
        {
          "output_type": "display_data",
          "data": {
            "image/png": "[encoded data removed]",
            "text/plain": [
              "<Figure size 648x216 with 1 Axes>"
            ]
          },
          "metadata": {
            "tags": [],
            "needs_background": "light"
          }
        }
      ]
    },
    {
      "cell_type": "code",
      "metadata": {
        "id": "0mtbXBxOjeR3",
        "colab_type": "code",
        "colab": {
          "base_uri": "https://localhost:8080/",
          "height": 51
        },
        "outputId": "8489c189-58fd-49c0-d5c8-a77e67bb4a7c"
      },
      "source": [
        "print(counts[0])\n",
        "print(counts[1])"
      ],
      "execution_count": null,
      "outputs": [
        {
          "output_type": "stream",
          "text": [
            "45140\n",
            "31533\n"
          ],
          "name": "stdout"
        }
      ]
    },
    {
      "cell_type": "code",
      "metadata": {
        "id": "akB5ROSXjqSk",
        "colab_type": "code",
        "colab": {
          "base_uri": "https://localhost:8080/",
          "height": 69
        },
        "outputId": "5541e9da-fd07-4efa-b620-87fc9443bb16"
      },
      "source": [
        "#Pakistan\n",
        "\n",
        "import glob\n",
        "import pandas as pd\n",
        "directoryPath = '/content/drive/My Drive/NLP/COVID/cleaned_data/'\n",
        "cleaned_data = pd.DataFrame()\n",
        "col_list = [\"text\", \"country_code\"]\n",
        "for file_name in glob.glob(directoryPath+'*.CSV'):\n",
        "    print(file_name)\n",
        "\n",
        "    x = pd.read_csv(file_name, low_memory=False, usecols=col_list)\n",
        "    #x.drop(x.loc[x.lang != 'en'].index, inplace=True)\n",
        "    #indexNames = x[ (x['country_code'] != 'PK') & (x['country_code'] != 'IN') & (x['country_code'] != 'CA') & (x['country_code'] != 'US') & (x['country_code'] != 'SE') & (x['country_code'] != 'NO') & (x['country_code'] != 'BY') & (x['country_code'] != 'BR')  ].index\n",
        "    indexNames = x[ (x['country_code'] != 'PK') ].index\n",
        "    x.drop(indexNames , inplace=True)\n",
        "    cleaned_data = pd.concat([cleaned_data,x],axis=0)\n"
      ],
      "execution_count": null,
      "outputs": [
        {
          "output_type": "stream",
          "text": [
            "/content/drive/My Drive/NLP/COVID/cleaned_data/March.CSV\n",
            "/content/drive/My Drive/NLP/COVID/cleaned_data/April_1.CSV\n",
            "/content/drive/My Drive/NLP/COVID/cleaned_data/April_2.CSV\n"
          ],
          "name": "stdout"
        }
      ]
    },
    {
      "cell_type": "code",
      "metadata": {
        "id": "JXOFZd0ej2pR",
        "colab_type": "code",
        "colab": {
          "base_uri": "https://localhost:8080/",
          "height": 173
        },
        "outputId": "52d96b52-b6f0-45c8-9eeb-a72075139368"
      },
      "source": [
        "%tensorflow_version 1.x\n",
        "\n",
        "\n",
        "\n",
        "from keras import backend as K\n",
        "#K.tensorflow_backend._get_available_gpus()\n",
        "\n",
        "\n",
        "from keras.preprocessing.text import Tokenizer\n",
        "from keras.preprocessing.sequence import pad_sequences\n",
        "import numpy as np\n",
        "maxlen = 280\n",
        "max_words = 40000\n",
        "tokenizer = Tokenizer(num_words=max_words)\n",
        "#tokenizer.fit_on_texts(data['Tweet'])\n",
        "#sequences = tokenizer.texts_to_sequences(data['Tweet'])\n",
        "\n",
        "tokenizer.fit_on_texts(cleaned_data['text'])\n",
        "sequences = tokenizer.texts_to_sequences(cleaned_data['text'])\n",
        "\n",
        "word_index = tokenizer.word_index\n",
        "print('Found %s unique tokens.' % len(word_index))\n",
        "data1 = pad_sequences(sequences, maxlen=maxlen)\n",
        "print(data1)"
      ],
      "execution_count": null,
      "outputs": [
        {
          "output_type": "stream",
          "text": [
            "TensorFlow is already loaded. Please restart the runtime to change versions.\n",
            "Found 25785 unique tokens.\n",
            "[[    0     0     0 ...   126   195  4056]\n",
            " [    0     0     0 ...  1273     6   938]\n",
            " [    0     0     0 ...     3     2 16992]\n",
            " ...\n",
            " [    0     0     0 ...    12    32    20]\n",
            " [    0     0     0 ...    10    12    25]\n",
            " [    0     0     0 ... 16985   480 16986]]\n"
          ],
          "name": "stdout"
        }
      ]
    },
    {
      "cell_type": "code",
      "metadata": {
        "id": "TZx5W4mHj7dZ",
        "colab_type": "code",
        "colab": {}
      },
      "source": [
        "from sklearn.metrics import precision_score , recall_score\n",
        "y_val_pred=model2.predict_classes(data1)"
      ],
      "execution_count": null,
      "outputs": []
    },
    {
      "cell_type": "code",
      "metadata": {
        "id": "0k-b-c8qkACx",
        "colab_type": "code",
        "colab": {}
      },
      "source": [
        " import numpy as numpy\n",
        " unique, counts = numpy.unique(y_val_pred, return_counts=True)"
      ],
      "execution_count": null,
      "outputs": []
    },
    {
      "cell_type": "code",
      "metadata": {
        "id": "jHC94njFkDgG",
        "colab_type": "code",
        "colab": {
          "base_uri": "https://localhost:8080/",
          "height": 228
        },
        "outputId": "ae37c9c1-8a1a-4366-ac6b-8912c457b1cb"
      },
      "source": [
        "import matplotlib.pyplot as plt\n",
        "names = ['negative', 'positive']\n",
        "values = [counts[0],counts[1]]\n",
        "plt.figure(figsize=(9, 3))\n",
        "plt.subplot(131)\n",
        "plt.bar(names, values)"
      ],
      "execution_count": null,
      "outputs": [
        {
          "output_type": "execute_result",
          "data": {
            "text/plain": [
              "<BarContainer object of 2 artists>"
            ]
          },
          "metadata": {
            "tags": []
          },
          "execution_count": 62
        },
        {
          "output_type": "display_data",
          "data": {
            "image/png": "[encoded data removed]",
            "text/plain": [
              "<Figure size 648x216 with 1 Axes>"
            ]
          },
          "metadata": {
            "tags": [],
            "needs_background": "light"
          }
        }
      ]
    },
    {
      "cell_type": "code",
      "metadata": {
        "id": "9UYxw9gLkHMA",
        "colab_type": "code",
        "colab": {
          "base_uri": "https://localhost:8080/",
          "height": 51
        },
        "outputId": "3c0d740d-724a-4509-a749-2b6217070e70"
      },
      "source": [
        "print(counts[0])\n",
        "print(counts[1])"
      ],
      "execution_count": null,
      "outputs": [
        {
          "output_type": "stream",
          "text": [
            "6585\n",
            "4394\n"
          ],
          "name": "stdout"
        }
      ]
    },
    {
      "cell_type": "code",
      "metadata": {
        "id": "CrFX5UtdkK4J",
        "colab_type": "code",
        "colab": {
          "base_uri": "https://localhost:8080/",
          "height": 69
        },
        "outputId": "b7e7ff16-5807-4144-fd75-6f64bfdb6c93"
      },
      "source": [
        "# Canada\n",
        "\n",
        "import glob\n",
        "import pandas as pd\n",
        "directoryPath = '/content/drive/My Drive/NLP/COVID/cleaned_data/'\n",
        "cleaned_data = pd.DataFrame()\n",
        "col_list = [\"text\", \"country_code\"]\n",
        "for file_name in glob.glob(directoryPath+'*.CSV'):\n",
        "    print(file_name)\n",
        "\n",
        "    x = pd.read_csv(file_name, low_memory=False, usecols=col_list)\n",
        "    #x.drop(x.loc[x.lang != 'en'].index, inplace=True)\n",
        "    #indexNames = x[ (x['country_code'] != 'PK') & (x['country_code'] != 'IN') & (x['country_code'] != 'CA') & (x['country_code'] != 'US') & (x['country_code'] != 'SE') & (x['country_code'] != 'NO') & (x['country_code'] != 'BY') & (x['country_code'] != 'BR')  ].index\n",
        "    indexNames = x[ (x['country_code'] != 'CA') ].index\n",
        "    x.drop(indexNames , inplace=True)\n",
        "    cleaned_data = pd.concat([cleaned_data,x],axis=0)\n"
      ],
      "execution_count": null,
      "outputs": [
        {
          "output_type": "stream",
          "text": [
            "/content/drive/My Drive/NLP/COVID/cleaned_data/March.CSV\n",
            "/content/drive/My Drive/NLP/COVID/cleaned_data/April_1.CSV\n",
            "/content/drive/My Drive/NLP/COVID/cleaned_data/April_2.CSV\n"
          ],
          "name": "stdout"
        }
      ]
    },
    {
      "cell_type": "code",
      "metadata": {
        "id": "B3eWUY0okVVg",
        "colab_type": "code",
        "colab": {
          "base_uri": "https://localhost:8080/",
          "height": 173
        },
        "outputId": "3f532c18-2393-4a35-9ab5-0cc7f1a9c2d0"
      },
      "source": [
        "%tensorflow_version 1.x\n",
        "\n",
        "\n",
        "\n",
        "from keras import backend as K\n",
        "#K.tensorflow_backend._get_available_gpus()\n",
        "\n",
        "\n",
        "from keras.preprocessing.text import Tokenizer\n",
        "from keras.preprocessing.sequence import pad_sequences\n",
        "import numpy as np\n",
        "maxlen = 280\n",
        "max_words = 40000\n",
        "tokenizer = Tokenizer(num_words=max_words)\n",
        "#tokenizer.fit_on_texts(data['Tweet'])\n",
        "#sequences = tokenizer.texts_to_sequences(data['Tweet'])\n",
        "\n",
        "tokenizer.fit_on_texts(cleaned_data['text'])\n",
        "sequences = tokenizer.texts_to_sequences(cleaned_data['text'])\n",
        "\n",
        "word_index = tokenizer.word_index\n",
        "print('Found %s unique tokens.' % len(word_index))\n",
        "data1 = pad_sequences(sequences, maxlen=maxlen)\n",
        "print(data1)"
      ],
      "execution_count": null,
      "outputs": [
        {
          "output_type": "stream",
          "text": [
            "TensorFlow is already loaded. Please restart the runtime to change versions.\n",
            "Found 80969 unique tokens.\n",
            "[[   0    0    0 ...  280  520 2110]\n",
            " [   0    0    0 ... 2805   29 8045]\n",
            " [   0    0    0 ...    4    2    3]\n",
            " ...\n",
            " [   0    0    0 ...    2    3  401]\n",
            " [   0    0    0 ...    2    3  884]\n",
            " [   0    0    0 ...    4    2    3]]\n"
          ],
          "name": "stdout"
        }
      ]
    },
    {
      "cell_type": "code",
      "metadata": {
        "id": "HJhe0UHokYrI",
        "colab_type": "code",
        "colab": {}
      },
      "source": [
        "from sklearn.metrics import precision_score , recall_score\n",
        "y_val_pred=model2.predict_classes(data1)"
      ],
      "execution_count": null,
      "outputs": []
    },
    {
      "cell_type": "code",
      "metadata": {
        "id": "Mv3bdHv4kb84",
        "colab_type": "code",
        "colab": {}
      },
      "source": [
        " import numpy as numpy\n",
        " unique, counts = numpy.unique(y_val_pred, return_counts=True)"
      ],
      "execution_count": null,
      "outputs": []
    },
    {
      "cell_type": "code",
      "metadata": {
        "id": "jRjApQ65khw3",
        "colab_type": "code",
        "colab": {
          "base_uri": "https://localhost:8080/",
          "height": 228
        },
        "outputId": "6f6d3fd5-4296-4b5c-ffdb-3db705f1cfbb"
      },
      "source": [
        "import matplotlib.pyplot as plt\n",
        "names = ['negative', 'positive']\n",
        "values = [counts[0],counts[1]]\n",
        "plt.figure(figsize=(9, 3))\n",
        "plt.subplot(131)\n",
        "plt.bar(names, values)"
      ],
      "execution_count": null,
      "outputs": [
        {
          "output_type": "execute_result",
          "data": {
            "text/plain": [
              "<BarContainer object of 2 artists>"
            ]
          },
          "metadata": {
            "tags": []
          },
          "execution_count": 68
        },
        {
          "output_type": "display_data",
          "data": {
            "image/png": "[encoded data removed]",
            "text/plain": [
              "<Figure size 648x216 with 1 Axes>"
            ]
          },
          "metadata": {
            "tags": [],
            "needs_background": "light"
          }
        }
      ]
    },
    {
      "cell_type": "code",
      "metadata": {
        "id": "q1PqDCklklBg",
        "colab_type": "code",
        "colab": {
          "base_uri": "https://localhost:8080/",
          "height": 51
        },
        "outputId": "bc70cb83-3e77-4f76-e94d-5baf6d2db6f0"
      },
      "source": [
        "print(counts[0])\n",
        "print(counts[1])"
      ],
      "execution_count": null,
      "outputs": [
        {
          "output_type": "stream",
          "text": [
            "27840\n",
            "19184\n"
          ],
          "name": "stdout"
        }
      ]
    },
    {
      "cell_type": "code",
      "metadata": {
        "id": "4xVwrHDxktiI",
        "colab_type": "code",
        "colab": {
          "base_uri": "https://localhost:8080/",
          "height": 69
        },
        "outputId": "88fb2673-95be-413b-e74e-0b9285b4b226"
      },
      "source": [
        "#Sweden\n",
        "\n",
        "import glob\n",
        "import pandas as pd\n",
        "directoryPath = '/content/drive/My Drive/NLP/COVID/cleaned_data/'\n",
        "cleaned_data = pd.DataFrame()\n",
        "col_list = [\"text\", \"country_code\"]\n",
        "for file_name in glob.glob(directoryPath+'*.CSV'):\n",
        "    print(file_name)\n",
        "\n",
        "    x = pd.read_csv(file_name, low_memory=False, usecols=col_list)\n",
        "    #x.drop(x.loc[x.lang != 'en'].index, inplace=True)\n",
        "    #indexNames = x[ (x['country_code'] != 'PK') & (x['country_code'] != 'IN') & (x['country_code'] != 'CA') & (x['country_code'] != 'US') & (x['country_code'] != 'SE') & (x['country_code'] != 'NO') & (x['country_code'] != 'BY') & (x['country_code'] != 'BR')  ].index\n",
        "    indexNames = x[ (x['country_code'] != 'SE') ].index\n",
        "    x.drop(indexNames , inplace=True)\n",
        "    cleaned_data = pd.concat([cleaned_data,x],axis=0)\n"
      ],
      "execution_count": null,
      "outputs": [
        {
          "output_type": "stream",
          "text": [
            "/content/drive/My Drive/NLP/COVID/cleaned_data/March.CSV\n",
            "/content/drive/My Drive/NLP/COVID/cleaned_data/April_1.CSV\n",
            "/content/drive/My Drive/NLP/COVID/cleaned_data/April_2.CSV\n"
          ],
          "name": "stdout"
        }
      ]
    },
    {
      "cell_type": "code",
      "metadata": {
        "id": "VgeGzFbDk3Sg",
        "colab_type": "code",
        "colab": {
          "base_uri": "https://localhost:8080/",
          "height": 173
        },
        "outputId": "3fea7bbb-3174-4ace-cd44-a730a9194598"
      },
      "source": [
        "%tensorflow_version 1.x\n",
        "\n",
        "\n",
        "\n",
        "from keras import backend as K\n",
        "#K.tensorflow_backend._get_available_gpus()\n",
        "\n",
        "\n",
        "from keras.preprocessing.text import Tokenizer\n",
        "from keras.preprocessing.sequence import pad_sequences\n",
        "import numpy as np\n",
        "maxlen = 280\n",
        "max_words = 40000\n",
        "tokenizer = Tokenizer(num_words=max_words)\n",
        "#tokenizer.fit_on_texts(data['Tweet'])\n",
        "#sequences = tokenizer.texts_to_sequences(data['Tweet'])\n",
        "\n",
        "tokenizer.fit_on_texts(cleaned_data['text'])\n",
        "sequences = tokenizer.texts_to_sequences(cleaned_data['text'])\n",
        "\n",
        "word_index = tokenizer.word_index\n",
        "print('Found %s unique tokens.' % len(word_index))\n",
        "data1 = pad_sequences(sequences, maxlen=maxlen)\n",
        "print(data1)"
      ],
      "execution_count": null,
      "outputs": [
        {
          "output_type": "stream",
          "text": [
            "TensorFlow is already loaded. Please restart the runtime to change versions.\n",
            "Found 4921 unique tokens.\n",
            "[[   0    0    0 ...    1   39   45]\n",
            " [   0    0    0 ... 3302 3303  435]\n",
            " [   0    0    0 ...    3    2 3307]\n",
            " ...\n",
            " [   0    0    0 ... 3278   12  138]\n",
            " [   0    0    0 ...    3    2 3279]\n",
            " [   0    0    0 ...    3    2 3287]]\n"
          ],
          "name": "stdout"
        }
      ]
    },
    {
      "cell_type": "code",
      "metadata": {
        "id": "QupWCThJk6U3",
        "colab_type": "code",
        "colab": {}
      },
      "source": [
        "from sklearn.metrics import precision_score , recall_score\n",
        "y_val_pred=model2.predict_classes(data1)"
      ],
      "execution_count": null,
      "outputs": []
    },
    {
      "cell_type": "code",
      "metadata": {
        "id": "8WV7tHPNk84n",
        "colab_type": "code",
        "colab": {}
      },
      "source": [
        " import numpy as numpy\n",
        " unique, counts = numpy.unique(y_val_pred, return_counts=True)"
      ],
      "execution_count": null,
      "outputs": []
    },
    {
      "cell_type": "code",
      "metadata": {
        "id": "HdH4pIGTlAVf",
        "colab_type": "code",
        "colab": {
          "base_uri": "https://localhost:8080/",
          "height": 228
        },
        "outputId": "48503a98-d39e-42f1-bea2-751c939cb824"
      },
      "source": [
        "import matplotlib.pyplot as plt\n",
        "names = ['negative', 'positive']\n",
        "values = [counts[0],counts[1]]\n",
        "plt.figure(figsize=(9, 3))\n",
        "plt.subplot(131)\n",
        "plt.bar(names, values)"
      ],
      "execution_count": null,
      "outputs": [
        {
          "output_type": "execute_result",
          "data": {
            "text/plain": [
              "<BarContainer object of 2 artists>"
            ]
          },
          "metadata": {
            "tags": []
          },
          "execution_count": 74
        },
        {
          "output_type": "display_data",
          "data": {
            "image/png": "[encoded data removed]",
            "text/plain": [
              "<Figure size 648x216 with 1 Axes>"
            ]
          },
          "metadata": {
            "tags": [],
            "needs_background": "light"
          }
        }
      ]
    },
    {
      "cell_type": "code",
      "metadata": {
        "id": "F4dx5caZlDNR",
        "colab_type": "code",
        "colab": {
          "base_uri": "https://localhost:8080/",
          "height": 51
        },
        "outputId": "f2e213b1-be91-468b-99ba-8f6c7555453d"
      },
      "source": [
        "print(counts[0])\n",
        "print(counts[1])"
      ],
      "execution_count": null,
      "outputs": [
        {
          "output_type": "stream",
          "text": [
            "600\n",
            "341\n"
          ],
          "name": "stdout"
        }
      ]
    },
    {
      "cell_type": "code",
      "metadata": {
        "id": "ymnCzYJJlHBn",
        "colab_type": "code",
        "colab": {
          "base_uri": "https://localhost:8080/",
          "height": 69
        },
        "outputId": "ecb23f0b-7599-40bc-cbb8-7497e5022b91"
      },
      "source": [
        "#Norway\n",
        "\n",
        "import glob\n",
        "import pandas as pd\n",
        "directoryPath = '/content/drive/My Drive/NLP/COVID/cleaned_data/'\n",
        "cleaned_data = pd.DataFrame()\n",
        "col_list = [\"text\", \"country_code\"]\n",
        "for file_name in glob.glob(directoryPath+'*.CSV'):\n",
        "    print(file_name)\n",
        "\n",
        "    x = pd.read_csv(file_name, low_memory=False, usecols=col_list)\n",
        "    #x.drop(x.loc[x.lang != 'en'].index, inplace=True)\n",
        "    #indexNames = x[ (x['country_code'] != 'PK') & (x['country_code'] != 'IN') & (x['country_code'] != 'CA') & (x['country_code'] != 'US') & (x['country_code'] != 'SE') & (x['country_code'] != 'NO') & (x['country_code'] != 'BY') & (x['country_code'] != 'BR')  ].index\n",
        "    indexNames = x[ (x['country_code'] != 'NO') ].index\n",
        "    x.drop(indexNames , inplace=True)\n",
        "    cleaned_data = pd.concat([cleaned_data,x],axis=0)\n"
      ],
      "execution_count": null,
      "outputs": [
        {
          "output_type": "stream",
          "text": [
            "/content/drive/My Drive/NLP/COVID/cleaned_data/March.CSV\n",
            "/content/drive/My Drive/NLP/COVID/cleaned_data/April_1.CSV\n",
            "/content/drive/My Drive/NLP/COVID/cleaned_data/April_2.CSV\n"
          ],
          "name": "stdout"
        }
      ]
    },
    {
      "cell_type": "code",
      "metadata": {
        "id": "OQrTkL7dlObf",
        "colab_type": "code",
        "colab": {
          "base_uri": "https://localhost:8080/",
          "height": 173
        },
        "outputId": "53ec54c6-8a68-4363-a2a4-4512268f77db"
      },
      "source": [
        "%tensorflow_version 1.x\n",
        "\n",
        "\n",
        "\n",
        "from keras import backend as K\n",
        "#K.tensorflow_backend._get_available_gpus()\n",
        "\n",
        "\n",
        "from keras.preprocessing.text import Tokenizer\n",
        "from keras.preprocessing.sequence import pad_sequences\n",
        "import numpy as np\n",
        "maxlen = 280\n",
        "max_words = 40000\n",
        "tokenizer = Tokenizer(num_words=max_words)\n",
        "#tokenizer.fit_on_texts(data['Tweet'])\n",
        "#sequences = tokenizer.texts_to_sequences(data['Tweet'])\n",
        "\n",
        "tokenizer.fit_on_texts(cleaned_data['text'])\n",
        "sequences = tokenizer.texts_to_sequences(cleaned_data['text'])\n",
        "\n",
        "word_index = tokenizer.word_index\n",
        "print('Found %s unique tokens.' % len(word_index))\n",
        "data1 = pad_sequences(sequences, maxlen=maxlen)\n",
        "print(data1)"
      ],
      "execution_count": null,
      "outputs": [
        {
          "output_type": "stream",
          "text": [
            "TensorFlow is already loaded. Please restart the runtime to change versions.\n",
            "Found 3359 unique tokens.\n",
            "[[   0    0    0 ...    2    4 2097]\n",
            " [   0    0    0 ...    2    4 2105]\n",
            " [   0    0    0 ...    2    4 2108]\n",
            " ...\n",
            " [   0    0    0 ...   90  530  790]\n",
            " [   0    0    0 ... 2084   46    6]\n",
            " [   0    0    0 ...    2    4 2094]]\n"
          ],
          "name": "stdout"
        }
      ]
    },
    {
      "cell_type": "code",
      "metadata": {
        "id": "FeuY-5XhlRkf",
        "colab_type": "code",
        "colab": {}
      },
      "source": [
        "from sklearn.metrics import precision_score , recall_score\n",
        "y_val_pred=model2.predict_classes(data1)"
      ],
      "execution_count": null,
      "outputs": []
    },
    {
      "cell_type": "code",
      "metadata": {
        "id": "7mTNs2WllUYX",
        "colab_type": "code",
        "colab": {}
      },
      "source": [
        " import numpy as numpy\n",
        " unique, counts = numpy.unique(y_val_pred, return_counts=True)"
      ],
      "execution_count": null,
      "outputs": []
    },
    {
      "cell_type": "code",
      "metadata": {
        "id": "Nazlr0yllWqf",
        "colab_type": "code",
        "colab": {
          "base_uri": "https://localhost:8080/",
          "height": 228
        },
        "outputId": "8444cae5-77a1-4f41-f0b8-2764c41d29a7"
      },
      "source": [
        "import matplotlib.pyplot as plt\n",
        "names = ['negative', 'positive']\n",
        "values = [counts[0],counts[1]]\n",
        "plt.figure(figsize=(9, 3))\n",
        "plt.subplot(131)\n",
        "plt.bar(names, values)"
      ],
      "execution_count": null,
      "outputs": [
        {
          "output_type": "execute_result",
          "data": {
            "text/plain": [
              "<BarContainer object of 2 artists>"
            ]
          },
          "metadata": {
            "tags": []
          },
          "execution_count": 80
        },
        {
          "output_type": "display_data",
          "data": {
            "image/png": "[encoded data removed]",
            "text/plain": [
              "<Figure size 648x216 with 1 Axes>"
            ]
          },
          "metadata": {
            "tags": [],
            "needs_background": "light"
          }
        }
      ]
    },
    {
      "cell_type": "code",
      "metadata": {
        "id": "4M-5gHmQlY_-",
        "colab_type": "code",
        "colab": {
          "base_uri": "https://localhost:8080/",
          "height": 51
        },
        "outputId": "dee8e740-e94d-4d29-d649-b92de8e65635"
      },
      "source": [
        "print(counts[0])\n",
        "print(counts[1])"
      ],
      "execution_count": null,
      "outputs": [
        {
          "output_type": "stream",
          "text": [
            "341\n",
            "210\n"
          ],
          "name": "stdout"
        }
      ]
    },
    {
      "cell_type": "code",
      "metadata": {
        "id": "wjFvV1zildin",
        "colab_type": "code",
        "colab": {
          "base_uri": "https://localhost:8080/",
          "height": 69
        },
        "outputId": "6622fb1a-5b3b-4551-a0de-fe90f4731505"
      },
      "source": [
        "#Balarus\n",
        "\n",
        "import glob\n",
        "import pandas as pd\n",
        "directoryPath = '/content/drive/My Drive/NLP/COVID/cleaned_data/'\n",
        "cleaned_data = pd.DataFrame()\n",
        "col_list = [\"text\", \"country_code\"]\n",
        "for file_name in glob.glob(directoryPath+'*.CSV'):\n",
        "    print(file_name)\n",
        "\n",
        "    x = pd.read_csv(file_name, low_memory=False, usecols=col_list)\n",
        "    #x.drop(x.loc[x.lang != 'en'].index, inplace=True)\n",
        "    #indexNames = x[ (x['country_code'] != 'PK') & (x['country_code'] != 'IN') & (x['country_code'] != 'CA') & (x['country_code'] != 'US') & (x['country_code'] != 'SE') & (x['country_code'] != 'NO') & (x['country_code'] != 'BY') & (x['country_code'] != 'BR')  ].index\n",
        "    indexNames = x[ (x['country_code'] != 'BY') ].index\n",
        "    x.drop(indexNames , inplace=True)\n",
        "    cleaned_data = pd.concat([cleaned_data,x],axis=0)\n"
      ],
      "execution_count": null,
      "outputs": [
        {
          "output_type": "stream",
          "text": [
            "/content/drive/My Drive/NLP/COVID/cleaned_data/March.CSV\n",
            "/content/drive/My Drive/NLP/COVID/cleaned_data/April_1.CSV\n",
            "/content/drive/My Drive/NLP/COVID/cleaned_data/April_2.CSV\n"
          ],
          "name": "stdout"
        }
      ]
    },
    {
      "cell_type": "code",
      "metadata": {
        "id": "J0PlvrU4loQP",
        "colab_type": "code",
        "colab": {
          "base_uri": "https://localhost:8080/",
          "height": 173
        },
        "outputId": "14157fc0-6370-4328-87ae-1f44107bfd3a"
      },
      "source": [
        "%tensorflow_version 1.x\n",
        "\n",
        "\n",
        "\n",
        "from keras import backend as K\n",
        "#K.tensorflow_backend._get_available_gpus()\n",
        "\n",
        "\n",
        "from keras.preprocessing.text import Tokenizer\n",
        "from keras.preprocessing.sequence import pad_sequences\n",
        "import numpy as np\n",
        "maxlen = 280\n",
        "max_words = 40000\n",
        "tokenizer = Tokenizer(num_words=max_words)\n",
        "#tokenizer.fit_on_texts(data['Tweet'])\n",
        "#sequences = tokenizer.texts_to_sequences(data['Tweet'])\n",
        "\n",
        "tokenizer.fit_on_texts(cleaned_data['text'])\n",
        "sequences = tokenizer.texts_to_sequences(cleaned_data['text'])\n",
        "\n",
        "word_index = tokenizer.word_index\n",
        "print('Found %s unique tokens.' % len(word_index))\n",
        "data1 = pad_sequences(sequences, maxlen=maxlen)\n",
        "print(data1)"
      ],
      "execution_count": null,
      "outputs": [
        {
          "output_type": "stream",
          "text": [
            "TensorFlow is already loaded. Please restart the runtime to change versions.\n",
            "Found 293 unique tokens.\n",
            "[[  0   0   0 ...   4   5 210]\n",
            " [  0   0   0 ...   4   5 237]\n",
            " [  0   0   0 ...   4   5 247]\n",
            " ...\n",
            " [  0   0   0 ...   4   5 176]\n",
            " [  0   0   0 ...   4   5 193]\n",
            " [  0   0   0 ...   4   5 203]]\n"
          ],
          "name": "stdout"
        }
      ]
    },
    {
      "cell_type": "code",
      "metadata": {
        "id": "ku68tq9Ylq2v",
        "colab_type": "code",
        "colab": {}
      },
      "source": [
        "from sklearn.metrics import precision_score , recall_score\n",
        "y_val_pred=model2.predict_classes(data1)"
      ],
      "execution_count": null,
      "outputs": []
    },
    {
      "cell_type": "code",
      "metadata": {
        "id": "0Enl51FFltd3",
        "colab_type": "code",
        "colab": {}
      },
      "source": [
        " import numpy as numpy\n",
        " unique, counts = numpy.unique(y_val_pred, return_counts=True)"
      ],
      "execution_count": null,
      "outputs": []
    },
    {
      "cell_type": "code",
      "metadata": {
        "id": "cwLymUYalwH_",
        "colab_type": "code",
        "colab": {
          "base_uri": "https://localhost:8080/",
          "height": 228
        },
        "outputId": "5bee3921-1287-4c45-cd8c-06cd7c70f96c"
      },
      "source": [
        "import matplotlib.pyplot as plt\n",
        "names = ['negative', 'positive']\n",
        "values = [counts[0],counts[1]]\n",
        "plt.figure(figsize=(9, 3))\n",
        "plt.subplot(131)\n",
        "plt.bar(names, values)"
      ],
      "execution_count": null,
      "outputs": [
        {
          "output_type": "execute_result",
          "data": {
            "text/plain": [
              "<BarContainer object of 2 artists>"
            ]
          },
          "metadata": {
            "tags": []
          },
          "execution_count": 86
        },
        {
          "output_type": "display_data",
          "data": {
            "image/png": "[encoded data removed]",
            "text/plain": [
              "<Figure size 648x216 with 1 Axes>"
            ]
          },
          "metadata": {
            "tags": [],
            "needs_background": "light"
          }
        }
      ]
    },
    {
      "cell_type": "code",
      "metadata": {
        "id": "B-cUBNW1lyaH",
        "colab_type": "code",
        "colab": {
          "base_uri": "https://localhost:8080/",
          "height": 51
        },
        "outputId": "1c4efb11-3aac-45b8-deec-ccc84f410316"
      },
      "source": [
        "print(counts[0])\n",
        "print(counts[1])"
      ],
      "execution_count": null,
      "outputs": [
        {
          "output_type": "stream",
          "text": [
            "19\n",
            "19\n"
          ],
          "name": "stdout"
        }
      ]
    },
    {
      "cell_type": "code",
      "metadata": {
        "id": "dJf5c8DQl1RH",
        "colab_type": "code",
        "colab": {
          "base_uri": "https://localhost:8080/",
          "height": 69
        },
        "outputId": "8325d5b3-7e27-493b-ad28-2be5c4bcb54d"
      },
      "source": [
        "#Brazil\n",
        "\n",
        "import glob\n",
        "import pandas as pd\n",
        "directoryPath = '/content/drive/My Drive/NLP/COVID/cleaned_data/'\n",
        "cleaned_data = pd.DataFrame()\n",
        "col_list = [\"text\", \"country_code\"]\n",
        "for file_name in glob.glob(directoryPath+'*.CSV'):\n",
        "    print(file_name)\n",
        "\n",
        "    x = pd.read_csv(file_name, low_memory=False, usecols=col_list)\n",
        "    #x.drop(x.loc[x.lang != 'en'].index, inplace=True)\n",
        "    #indexNames = x[ (x['country_code'] != 'PK') & (x['country_code'] != 'IN') & (x['country_code'] != 'CA') & (x['country_code'] != 'US') & (x['country_code'] != 'SE') & (x['country_code'] != 'NO') & (x['country_code'] != 'BY') & (x['country_code'] != 'BR')  ].index\n",
        "    indexNames = x[ (x['country_code'] != 'BR') ].index\n",
        "    x.drop(indexNames , inplace=True)\n",
        "    cleaned_data = pd.concat([cleaned_data,x],axis=0)\n"
      ],
      "execution_count": null,
      "outputs": [
        {
          "output_type": "stream",
          "text": [
            "/content/drive/My Drive/NLP/COVID/cleaned_data/March.CSV\n",
            "/content/drive/My Drive/NLP/COVID/cleaned_data/April_1.CSV\n",
            "/content/drive/My Drive/NLP/COVID/cleaned_data/April_2.CSV\n"
          ],
          "name": "stdout"
        }
      ]
    },
    {
      "cell_type": "code",
      "metadata": {
        "id": "_e9kWhggl7JW",
        "colab_type": "code",
        "colab": {
          "base_uri": "https://localhost:8080/",
          "height": 173
        },
        "outputId": "908668c4-490e-4ec3-f6ee-22c1b405e0b3"
      },
      "source": [
        "%tensorflow_version 1.x\n",
        "\n",
        "\n",
        "\n",
        "from keras import backend as K\n",
        "#K.tensorflow_backend._get_available_gpus()\n",
        "\n",
        "\n",
        "from keras.preprocessing.text import Tokenizer\n",
        "from keras.preprocessing.sequence import pad_sequences\n",
        "import numpy as np\n",
        "maxlen = 280\n",
        "max_words = 40000\n",
        "tokenizer = Tokenizer(num_words=max_words)\n",
        "#tokenizer.fit_on_texts(data['Tweet'])\n",
        "#sequences = tokenizer.texts_to_sequences(data['Tweet'])\n",
        "\n",
        "tokenizer.fit_on_texts(cleaned_data['text'])\n",
        "sequences = tokenizer.texts_to_sequences(cleaned_data['text'])\n",
        "\n",
        "word_index = tokenizer.word_index\n",
        "print('Found %s unique tokens.' % len(word_index))\n",
        "data1 = pad_sequences(sequences, maxlen=maxlen)\n",
        "print(data1)"
      ],
      "execution_count": null,
      "outputs": [
        {
          "output_type": "stream",
          "text": [
            "TensorFlow is already loaded. Please restart the runtime to change versions.\n",
            "Found 5839 unique tokens.\n",
            "[[   0    0    0 ...    1    3 3452]\n",
            " [   0    0    0 ...   13    7 1519]\n",
            " [   0    0    0 ...    1    3 3462]\n",
            " ...\n",
            " [   0    0    0 ...    1    3 3444]\n",
            " [   0    0    0 ...    1    3 3446]\n",
            " [   0    0    0 ...    1    3 3447]]\n"
          ],
          "name": "stdout"
        }
      ]
    },
    {
      "cell_type": "code",
      "metadata": {
        "id": "FRbizTK-l9se",
        "colab_type": "code",
        "colab": {}
      },
      "source": [
        "from sklearn.metrics import precision_score , recall_score\n",
        "y_val_pred=model2.predict_classes(data1)"
      ],
      "execution_count": null,
      "outputs": []
    },
    {
      "cell_type": "code",
      "metadata": {
        "id": "vEtb9Gy2mAwm",
        "colab_type": "code",
        "colab": {}
      },
      "source": [
        " import numpy as numpy\n",
        " unique, counts = numpy.unique(y_val_pred, return_counts=True)"
      ],
      "execution_count": null,
      "outputs": []
    },
    {
      "cell_type": "code",
      "metadata": {
        "id": "7cq3yQTImDf9",
        "colab_type": "code",
        "colab": {
          "base_uri": "https://localhost:8080/",
          "height": 230
        },
        "outputId": "849ed59e-51c7-4416-b873-42d5bdf43e76"
      },
      "source": [
        "import matplotlib.pyplot as plt\n",
        "names = ['negative', 'positive']\n",
        "values = [counts[0],counts[1]]\n",
        "plt.figure(figsize=(9, 3))\n",
        "plt.subplot(131)\n",
        "plt.bar(names, values)"
      ],
      "execution_count": null,
      "outputs": [
        {
          "output_type": "execute_result",
          "data": {
            "text/plain": [
              "<BarContainer object of 2 artists>"
            ]
          },
          "metadata": {
            "tags": []
          },
          "execution_count": 92
        },
        {
          "output_type": "display_data",
          "data": {
            "image/png": "[encoded data removed]",
            "text/plain": [
              "<Figure size 648x216 with 1 Axes>"
            ]
          },
          "metadata": {
            "tags": [],
            "needs_background": "light"
          }
        }
      ]
    },
    {
      "cell_type": "code",
      "metadata": {
        "id": "FsYoBcgLmFnm",
        "colab_type": "code",
        "colab": {
          "base_uri": "https://localhost:8080/",
          "height": 51
        },
        "outputId": "b91f3c98-cabe-442f-ad9d-8c62b8219362"
      },
      "source": [
        "print(counts[0])\n",
        "print(counts[1])"
      ],
      "execution_count": null,
      "outputs": [
        {
          "output_type": "stream",
          "text": [
            "673\n",
            "560\n"
          ],
          "name": "stdout"
        }
      ]
    },
    {
      "cell_type": "code",
      "metadata": {
        "id": "xpzVHnsvmH-m",
        "colab_type": "code",
        "colab": {
          "base_uri": "https://localhost:8080/",
          "height": 69
        },
        "outputId": "b0e74b15-3db3-4f54-fd48-ecce260a6830"
      },
      "source": [
        "# reading all countries\n",
        "#sentiment extraction from the cleaned data\n",
        "#USA\n",
        "\n",
        "import glob\n",
        "import pandas as pd\n",
        "directoryPath = '/content/drive/My Drive/NLP/COVID/cleaned_data/'\n",
        "cleaned_data = pd.DataFrame()\n",
        "col_list = [\"text\", \"country_code\"]\n",
        "for file_name in glob.glob(directoryPath+'*.CSV'):\n",
        "    print(file_name)\n",
        "\n",
        "    x = pd.read_csv(file_name, low_memory=False, usecols=col_list)\n",
        "    #x.drop(x.loc[x.lang != 'en'].index, inplace=True)\n",
        "    #indexNames = x[ (x['country_code'] != 'PK') & (x['country_code'] != 'IN') & (x['country_code'] != 'CA') & (x['country_code'] != 'US') & (x['country_code'] != 'SE') & (x['country_code'] != 'NO') & (x['country_code'] != 'BY') & (x['country_code'] != 'BR')  ].index\n",
        "    #indexNames = x[ (x['country_code'] != 'US') ].index\n",
        "    #x.drop(indexNames , inplace=True)\n",
        "    cleaned_data = pd.concat([cleaned_data,x],axis=0)\n"
      ],
      "execution_count": null,
      "outputs": [
        {
          "output_type": "stream",
          "text": [
            "/content/drive/My Drive/NLP/COVID/cleaned_data/March.CSV\n",
            "/content/drive/My Drive/NLP/COVID/cleaned_data/April_1.CSV\n",
            "/content/drive/My Drive/NLP/COVID/cleaned_data/April_2.CSV\n"
          ],
          "name": "stdout"
        }
      ]
    },
    {
      "cell_type": "code",
      "metadata": {
        "id": "iTRdYplum9R3",
        "colab_type": "code",
        "colab": {
          "base_uri": "https://localhost:8080/",
          "height": 173
        },
        "outputId": "bad1b51b-53f7-4f63-ce82-7fcc70171dee"
      },
      "source": [
        "cleaned_data.country_code.value_counts()"
      ],
      "execution_count": null,
      "outputs": [
        {
          "output_type": "execute_result",
          "data": {
            "text/plain": [
              "US    377139\n",
              "IN     76673\n",
              "CA     47024\n",
              "PK     10979\n",
              "BR      1233\n",
              "SE       941\n",
              "NO       551\n",
              "BY        38\n",
              "Name: country_code, dtype: int64"
            ]
          },
          "metadata": {
            "tags": []
          },
          "execution_count": 95
        }
      ]
    },
    {
      "cell_type": "code",
      "metadata": {
        "id": "TFkpCqH2nB19",
        "colab_type": "code",
        "colab": {}
      },
      "source": [
        ""
      ],
      "execution_count": null,
      "outputs": []
    }
  ]
}